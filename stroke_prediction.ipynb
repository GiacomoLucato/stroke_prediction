{
 "cells": [
  {
   "cell_type": "code",
   "execution_count": 2,
   "metadata": {
    "executionInfo": {
     "elapsed": 13180,
     "status": "ok",
     "timestamp": 1737288295719,
     "user": {
      "displayName": "giacomo lucato",
      "userId": "15571964377657343543"
     },
     "user_tz": -60
    },
    "id": "sNmRw-KZ6nNq"
   },
   "outputs": [],
   "source": [
    "import pandas as pd\n",
    "from sklearn.ensemble import RandomForestClassifier\n",
    "from sklearn.metrics import accuracy_score, confusion_matrix, f1_score, precision_score, recall_score\n",
    "import seaborn as sns\n",
    "import matplotlib.pyplot as plt\n",
    "from sklearn.model_selection import train_test_split\n",
    "from sklearn.preprocessing import StandardScaler\n",
    "from sklearn.neighbors import KNeighborsClassifier\n",
    "from sklearn.naive_bayes import GaussianNB\n",
    "import numpy as np"
   ]
  },
  {
   "cell_type": "code",
   "execution_count": 35,
   "metadata": {
    "colab": {
     "base_uri": "https://localhost:8080/",
     "height": 264
    },
    "executionInfo": {
     "elapsed": 98217,
     "status": "ok",
     "timestamp": 1737288393917,
     "user": {
      "displayName": "giacomo lucato",
      "userId": "15571964377657343543"
     },
     "user_tz": -60
    },
    "id": "SW4rN5yA7Mfh",
    "outputId": "8daeacaf-b737-4878-ad67-78586cf27b75"
   },
   "outputs": [
    {
     "data": {
      "text/html": [
       "<div>\n",
       "<style scoped>\n",
       "    .dataframe tbody tr th:only-of-type {\n",
       "        vertical-align: middle;\n",
       "    }\n",
       "\n",
       "    .dataframe tbody tr th {\n",
       "        vertical-align: top;\n",
       "    }\n",
       "\n",
       "    .dataframe thead th {\n",
       "        text-align: right;\n",
       "    }\n",
       "</style>\n",
       "<table border=\"1\" class=\"dataframe\">\n",
       "  <thead>\n",
       "    <tr style=\"text-align: right;\">\n",
       "      <th></th>\n",
       "      <th>id</th>\n",
       "      <th>gender</th>\n",
       "      <th>age</th>\n",
       "      <th>hypertension</th>\n",
       "      <th>heart_disease</th>\n",
       "      <th>ever_married</th>\n",
       "      <th>work_type</th>\n",
       "      <th>Residence_type</th>\n",
       "      <th>avg_glucose_level</th>\n",
       "      <th>bmi</th>\n",
       "      <th>smoking_status</th>\n",
       "      <th>stroke</th>\n",
       "    </tr>\n",
       "  </thead>\n",
       "  <tbody>\n",
       "    <tr>\n",
       "      <th>0</th>\n",
       "      <td>9046</td>\n",
       "      <td>Male</td>\n",
       "      <td>67.0</td>\n",
       "      <td>0</td>\n",
       "      <td>1</td>\n",
       "      <td>Yes</td>\n",
       "      <td>Private</td>\n",
       "      <td>Urban</td>\n",
       "      <td>228.69</td>\n",
       "      <td>36.6</td>\n",
       "      <td>formerly smoked</td>\n",
       "      <td>1</td>\n",
       "    </tr>\n",
       "    <tr>\n",
       "      <th>1</th>\n",
       "      <td>51676</td>\n",
       "      <td>Female</td>\n",
       "      <td>61.0</td>\n",
       "      <td>0</td>\n",
       "      <td>0</td>\n",
       "      <td>Yes</td>\n",
       "      <td>Self-employed</td>\n",
       "      <td>Rural</td>\n",
       "      <td>202.21</td>\n",
       "      <td>NaN</td>\n",
       "      <td>never smoked</td>\n",
       "      <td>1</td>\n",
       "    </tr>\n",
       "    <tr>\n",
       "      <th>2</th>\n",
       "      <td>31112</td>\n",
       "      <td>Male</td>\n",
       "      <td>80.0</td>\n",
       "      <td>0</td>\n",
       "      <td>1</td>\n",
       "      <td>Yes</td>\n",
       "      <td>Private</td>\n",
       "      <td>Rural</td>\n",
       "      <td>105.92</td>\n",
       "      <td>32.5</td>\n",
       "      <td>never smoked</td>\n",
       "      <td>1</td>\n",
       "    </tr>\n",
       "    <tr>\n",
       "      <th>3</th>\n",
       "      <td>60182</td>\n",
       "      <td>Female</td>\n",
       "      <td>49.0</td>\n",
       "      <td>0</td>\n",
       "      <td>0</td>\n",
       "      <td>Yes</td>\n",
       "      <td>Private</td>\n",
       "      <td>Urban</td>\n",
       "      <td>171.23</td>\n",
       "      <td>34.4</td>\n",
       "      <td>smokes</td>\n",
       "      <td>1</td>\n",
       "    </tr>\n",
       "    <tr>\n",
       "      <th>4</th>\n",
       "      <td>1665</td>\n",
       "      <td>Female</td>\n",
       "      <td>79.0</td>\n",
       "      <td>1</td>\n",
       "      <td>0</td>\n",
       "      <td>Yes</td>\n",
       "      <td>Self-employed</td>\n",
       "      <td>Rural</td>\n",
       "      <td>174.12</td>\n",
       "      <td>24.0</td>\n",
       "      <td>never smoked</td>\n",
       "      <td>1</td>\n",
       "    </tr>\n",
       "  </tbody>\n",
       "</table>\n",
       "</div>"
      ],
      "text/plain": [
       "      id  gender   age  hypertension  heart_disease ever_married  \\\n",
       "0   9046    Male  67.0             0              1          Yes   \n",
       "1  51676  Female  61.0             0              0          Yes   \n",
       "2  31112    Male  80.0             0              1          Yes   \n",
       "3  60182  Female  49.0             0              0          Yes   \n",
       "4   1665  Female  79.0             1              0          Yes   \n",
       "\n",
       "       work_type Residence_type  avg_glucose_level   bmi   smoking_status  \\\n",
       "0        Private          Urban             228.69  36.6  formerly smoked   \n",
       "1  Self-employed          Rural             202.21   NaN     never smoked   \n",
       "2        Private          Rural             105.92  32.5     never smoked   \n",
       "3        Private          Urban             171.23  34.4           smokes   \n",
       "4  Self-employed          Rural             174.12  24.0     never smoked   \n",
       "\n",
       "   stroke  \n",
       "0       1  \n",
       "1       1  \n",
       "2       1  \n",
       "3       1  \n",
       "4       1  "
      ]
     },
     "execution_count": 35,
     "metadata": {},
     "output_type": "execute_result"
    }
   ],
   "source": [
    "# Loading the dataset\n",
    "\n",
    "data = pd.read_csv('stroke_dataset/dataset.csv')\n",
    "\n",
    "data.head()"
   ]
  },
  {
   "cell_type": "code",
   "execution_count": 4,
   "metadata": {
    "colab": {
     "base_uri": "https://localhost:8080/"
    },
    "executionInfo": {
     "elapsed": 66,
     "status": "ok",
     "timestamp": 1737288393919,
     "user": {
      "displayName": "giacomo lucato",
      "userId": "15571964377657343543"
     },
     "user_tz": -60
    },
    "id": "-xRqTSe2IH_L",
    "outputId": "4ce4a5ea-130b-40f3-9e59-0228fe6e2d32"
   },
   "outputs": [
    {
     "name": "stdout",
     "output_type": "stream",
     "text": [
      "<class 'pandas.core.frame.DataFrame'>\n",
      "RangeIndex: 5110 entries, 0 to 5109\n",
      "Data columns (total 12 columns):\n",
      " #   Column             Non-Null Count  Dtype  \n",
      "---  ------             --------------  -----  \n",
      " 0   id                 5110 non-null   int64  \n",
      " 1   gender             5110 non-null   object \n",
      " 2   age                5110 non-null   float64\n",
      " 3   hypertension       5110 non-null   int64  \n",
      " 4   heart_disease      5110 non-null   int64  \n",
      " 5   ever_married       5110 non-null   object \n",
      " 6   work_type          5110 non-null   object \n",
      " 7   Residence_type     5110 non-null   object \n",
      " 8   avg_glucose_level  5110 non-null   float64\n",
      " 9   bmi                4909 non-null   float64\n",
      " 10  smoking_status     5110 non-null   object \n",
      " 11  stroke             5110 non-null   int64  \n",
      "dtypes: float64(3), int64(4), object(5)\n",
      "memory usage: 479.2+ KB\n"
     ]
    }
   ],
   "source": [
    "data.info()"
   ]
  },
  {
   "cell_type": "markdown",
   "metadata": {
    "id": "GtXZ9KnjVGcX"
   },
   "source": [
    "\n",
    "\n",
    "*   5 columns with cathegorical data\n",
    "*   7 columns with numerical data\n",
    "*   1 columns, BMI, with 201 missing values\n",
    "\n",
    "\n"
   ]
  },
  {
   "cell_type": "markdown",
   "metadata": {
    "id": "8piWfEeJ0yQr"
   },
   "source": [
    "# Preprocessing\n"
   ]
  },
  {
   "cell_type": "markdown",
   "metadata": {
    "id": "aWvdlpzC138Z"
   },
   "source": [
    "## Data cleaning"
   ]
  },
  {
   "cell_type": "code",
   "execution_count": 5,
   "metadata": {
    "colab": {
     "base_uri": "https://localhost:8080/"
    },
    "executionInfo": {
     "elapsed": 54,
     "status": "ok",
     "timestamp": 1737288393919,
     "user": {
      "displayName": "giacomo lucato",
      "userId": "15571964377657343543"
     },
     "user_tz": -60
    },
    "id": "guE2sW_79c4e",
    "outputId": "22da0faf-9051-44ad-8b50-aee6f8a9587c"
   },
   "outputs": [
    {
     "name": "stderr",
     "output_type": "stream",
     "text": [
      "/tmp/ipykernel_245821/3366743325.py:8: FutureWarning: A value is trying to be set on a copy of a DataFrame or Series through chained assignment using an inplace method.\n",
      "The behavior will change in pandas 3.0. This inplace method will never work because the intermediate object on which we are setting values always behaves as a copy.\n",
      "\n",
      "For example, when doing 'df[col].method(value, inplace=True)', try using 'df.method({col: value}, inplace=True)' or df[col] = df[col].method(value) instead, to perform the operation inplace on the original object.\n",
      "\n",
      "\n",
      "  data[\"gender\"].replace(\"Other\",\"Male\",inplace=True)\n"
     ]
    }
   ],
   "source": [
    "# Eliminate column 'id' (irrelevant feature)\n",
    "data.drop(['id'],axis=1,inplace = True)\n",
    "\n",
    "data[\"gender\"].value_counts()\n",
    "data.loc[data[\"gender\"]==\"Other\"]\n",
    "\n",
    "#replace other in gender column with male because there are not found gender call other\n",
    "data[\"gender\"].replace(\"Other\",\"Male\",inplace=True)"
   ]
  },
  {
   "cell_type": "markdown",
   "metadata": {
    "id": "uNWSu0DN1qtX"
   },
   "source": [
    "## Missing Values"
   ]
  },
  {
   "cell_type": "code",
   "execution_count": 6,
   "metadata": {
    "executionInfo": {
     "elapsed": 47,
     "status": "ok",
     "timestamp": 1737288393919,
     "user": {
      "displayName": "giacomo lucato",
      "userId": "15571964377657343543"
     },
     "user_tz": -60
    },
    "id": "dqOJrrcg18ul"
   },
   "outputs": [],
   "source": [
    "# group the bmi median by 'gender', 'ever married', 'work type', and residence type'\n",
    "bmi_groupby = mode_bmi = pd.DataFrame(data.groupby(['gender', 'ever_married', 'work_type', 'Residence_type'])['bmi'].median())"
   ]
  },
  {
   "cell_type": "code",
   "execution_count": 7,
   "metadata": {
    "colab": {
     "base_uri": "https://localhost:8080/",
     "height": 1000
    },
    "executionInfo": {
     "elapsed": 47,
     "status": "ok",
     "timestamp": 1737288393919,
     "user": {
      "displayName": "giacomo lucato",
      "userId": "15571964377657343543"
     },
     "user_tz": -60
    },
    "id": "oifZ5ce33sME",
    "outputId": "c48099c3-57cf-4218-8d1d-a19748c5a1a1"
   },
   "outputs": [
    {
     "data": {
      "text/html": [
       "<div>\n",
       "<style scoped>\n",
       "    .dataframe tbody tr th:only-of-type {\n",
       "        vertical-align: middle;\n",
       "    }\n",
       "\n",
       "    .dataframe tbody tr th {\n",
       "        vertical-align: top;\n",
       "    }\n",
       "\n",
       "    .dataframe thead th {\n",
       "        text-align: right;\n",
       "    }\n",
       "</style>\n",
       "<table border=\"1\" class=\"dataframe\">\n",
       "  <thead>\n",
       "    <tr style=\"text-align: right;\">\n",
       "      <th></th>\n",
       "      <th></th>\n",
       "      <th></th>\n",
       "      <th></th>\n",
       "      <th>bmi</th>\n",
       "    </tr>\n",
       "    <tr>\n",
       "      <th>gender</th>\n",
       "      <th>ever_married</th>\n",
       "      <th>work_type</th>\n",
       "      <th>Residence_type</th>\n",
       "      <th></th>\n",
       "    </tr>\n",
       "  </thead>\n",
       "  <tbody>\n",
       "    <tr>\n",
       "      <th rowspan=\"16\" valign=\"top\">Female</th>\n",
       "      <th rowspan=\"10\" valign=\"top\">No</th>\n",
       "      <th rowspan=\"2\" valign=\"top\">Govt_job</th>\n",
       "      <th>Rural</th>\n",
       "      <td>26.60</td>\n",
       "    </tr>\n",
       "    <tr>\n",
       "      <th>Urban</th>\n",
       "      <td>27.10</td>\n",
       "    </tr>\n",
       "    <tr>\n",
       "      <th rowspan=\"2\" valign=\"top\">Never_worked</th>\n",
       "      <th>Rural</th>\n",
       "      <td>25.75</td>\n",
       "    </tr>\n",
       "    <tr>\n",
       "      <th>Urban</th>\n",
       "      <td>22.90</td>\n",
       "    </tr>\n",
       "    <tr>\n",
       "      <th rowspan=\"2\" valign=\"top\">Private</th>\n",
       "      <th>Rural</th>\n",
       "      <td>26.90</td>\n",
       "    </tr>\n",
       "    <tr>\n",
       "      <th>Urban</th>\n",
       "      <td>26.15</td>\n",
       "    </tr>\n",
       "    <tr>\n",
       "      <th rowspan=\"2\" valign=\"top\">Self-employed</th>\n",
       "      <th>Rural</th>\n",
       "      <td>27.95</td>\n",
       "    </tr>\n",
       "    <tr>\n",
       "      <th>Urban</th>\n",
       "      <td>29.80</td>\n",
       "    </tr>\n",
       "    <tr>\n",
       "      <th rowspan=\"2\" valign=\"top\">children</th>\n",
       "      <th>Rural</th>\n",
       "      <td>18.80</td>\n",
       "    </tr>\n",
       "    <tr>\n",
       "      <th>Urban</th>\n",
       "      <td>19.10</td>\n",
       "    </tr>\n",
       "    <tr>\n",
       "      <th rowspan=\"6\" valign=\"top\">Yes</th>\n",
       "      <th rowspan=\"2\" valign=\"top\">Govt_job</th>\n",
       "      <th>Rural</th>\n",
       "      <td>28.40</td>\n",
       "    </tr>\n",
       "    <tr>\n",
       "      <th>Urban</th>\n",
       "      <td>29.70</td>\n",
       "    </tr>\n",
       "    <tr>\n",
       "      <th rowspan=\"2\" valign=\"top\">Private</th>\n",
       "      <th>Rural</th>\n",
       "      <td>29.35</td>\n",
       "    </tr>\n",
       "    <tr>\n",
       "      <th>Urban</th>\n",
       "      <td>29.55</td>\n",
       "    </tr>\n",
       "    <tr>\n",
       "      <th rowspan=\"2\" valign=\"top\">Self-employed</th>\n",
       "      <th>Rural</th>\n",
       "      <td>29.40</td>\n",
       "    </tr>\n",
       "    <tr>\n",
       "      <th>Urban</th>\n",
       "      <td>28.70</td>\n",
       "    </tr>\n",
       "    <tr>\n",
       "      <th rowspan=\"16\" valign=\"top\">Male</th>\n",
       "      <th rowspan=\"10\" valign=\"top\">No</th>\n",
       "      <th rowspan=\"2\" valign=\"top\">Govt_job</th>\n",
       "      <th>Rural</th>\n",
       "      <td>30.00</td>\n",
       "    </tr>\n",
       "    <tr>\n",
       "      <th>Urban</th>\n",
       "      <td>29.00</td>\n",
       "    </tr>\n",
       "    <tr>\n",
       "      <th rowspan=\"2\" valign=\"top\">Never_worked</th>\n",
       "      <th>Rural</th>\n",
       "      <td>28.40</td>\n",
       "    </tr>\n",
       "    <tr>\n",
       "      <th>Urban</th>\n",
       "      <td>21.05</td>\n",
       "    </tr>\n",
       "    <tr>\n",
       "      <th rowspan=\"2\" valign=\"top\">Private</th>\n",
       "      <th>Rural</th>\n",
       "      <td>27.25</td>\n",
       "    </tr>\n",
       "    <tr>\n",
       "      <th>Urban</th>\n",
       "      <td>26.80</td>\n",
       "    </tr>\n",
       "    <tr>\n",
       "      <th rowspan=\"2\" valign=\"top\">Self-employed</th>\n",
       "      <th>Rural</th>\n",
       "      <td>29.45</td>\n",
       "    </tr>\n",
       "    <tr>\n",
       "      <th>Urban</th>\n",
       "      <td>30.90</td>\n",
       "    </tr>\n",
       "    <tr>\n",
       "      <th rowspan=\"2\" valign=\"top\">children</th>\n",
       "      <th>Rural</th>\n",
       "      <td>18.95</td>\n",
       "    </tr>\n",
       "    <tr>\n",
       "      <th>Urban</th>\n",
       "      <td>18.80</td>\n",
       "    </tr>\n",
       "    <tr>\n",
       "      <th rowspan=\"6\" valign=\"top\">Yes</th>\n",
       "      <th rowspan=\"2\" valign=\"top\">Govt_job</th>\n",
       "      <th>Rural</th>\n",
       "      <td>29.30</td>\n",
       "    </tr>\n",
       "    <tr>\n",
       "      <th>Urban</th>\n",
       "      <td>30.60</td>\n",
       "    </tr>\n",
       "    <tr>\n",
       "      <th rowspan=\"2\" valign=\"top\">Private</th>\n",
       "      <th>Rural</th>\n",
       "      <td>30.10</td>\n",
       "    </tr>\n",
       "    <tr>\n",
       "      <th>Urban</th>\n",
       "      <td>30.10</td>\n",
       "    </tr>\n",
       "    <tr>\n",
       "      <th rowspan=\"2\" valign=\"top\">Self-employed</th>\n",
       "      <th>Rural</th>\n",
       "      <td>30.70</td>\n",
       "    </tr>\n",
       "    <tr>\n",
       "      <th>Urban</th>\n",
       "      <td>29.30</td>\n",
       "    </tr>\n",
       "  </tbody>\n",
       "</table>\n",
       "</div>"
      ],
      "text/plain": [
       "                                                    bmi\n",
       "gender ever_married work_type     Residence_type       \n",
       "Female No           Govt_job      Rural           26.60\n",
       "                                  Urban           27.10\n",
       "                    Never_worked  Rural           25.75\n",
       "                                  Urban           22.90\n",
       "                    Private       Rural           26.90\n",
       "                                  Urban           26.15\n",
       "                    Self-employed Rural           27.95\n",
       "                                  Urban           29.80\n",
       "                    children      Rural           18.80\n",
       "                                  Urban           19.10\n",
       "       Yes          Govt_job      Rural           28.40\n",
       "                                  Urban           29.70\n",
       "                    Private       Rural           29.35\n",
       "                                  Urban           29.55\n",
       "                    Self-employed Rural           29.40\n",
       "                                  Urban           28.70\n",
       "Male   No           Govt_job      Rural           30.00\n",
       "                                  Urban           29.00\n",
       "                    Never_worked  Rural           28.40\n",
       "                                  Urban           21.05\n",
       "                    Private       Rural           27.25\n",
       "                                  Urban           26.80\n",
       "                    Self-employed Rural           29.45\n",
       "                                  Urban           30.90\n",
       "                    children      Rural           18.95\n",
       "                                  Urban           18.80\n",
       "       Yes          Govt_job      Rural           29.30\n",
       "                                  Urban           30.60\n",
       "                    Private       Rural           30.10\n",
       "                                  Urban           30.10\n",
       "                    Self-employed Rural           30.70\n",
       "                                  Urban           29.30"
      ]
     },
     "execution_count": 7,
     "metadata": {},
     "output_type": "execute_result"
    }
   ],
   "source": [
    "bmi_groupby"
   ]
  },
  {
   "cell_type": "code",
   "execution_count": 100,
   "metadata": {
    "executionInfo": {
     "elapsed": 43,
     "status": "ok",
     "timestamp": 1737288393920,
     "user": {
      "displayName": "giacomo lucato",
      "userId": "15571964377657343543"
     },
     "user_tz": -60
    },
    "id": "UbtnWTZojrYC"
   },
   "outputs": [],
   "source": [
    "# fill the NaN values in BMI by matching with the categorical columns\n",
    "median_bmi = data.groupby(['gender', 'ever_married', 'work_type', 'Residence_type'])\n",
    "\n",
    "# fill the the Nan values with the most occuring body type in the make and model group\n",
    "data['bmi'] = median_bmi['bmi'].transform(lambda x: x.fillna(x.median()))"
   ]
  },
  {
   "cell_type": "code",
   "execution_count": 101,
   "metadata": {
    "colab": {
     "base_uri": "https://localhost:8080/"
    },
    "executionInfo": {
     "elapsed": 41,
     "status": "ok",
     "timestamp": 1737288393920,
     "user": {
      "displayName": "giacomo lucato",
      "userId": "15571964377657343543"
     },
     "user_tz": -60
    },
    "id": "n4P9M699kDkj",
    "outputId": "3ed12995-33f2-4a00-a5ac-e46d5ff212da"
   },
   "outputs": [
    {
     "data": {
      "text/plain": [
       "np.int64(0)"
      ]
     },
     "execution_count": 101,
     "metadata": {},
     "output_type": "execute_result"
    }
   ],
   "source": [
    "# check for null values in the bmi column\n",
    "data['bmi'].isnull().sum()"
   ]
  },
  {
   "cell_type": "markdown",
   "metadata": {
    "id": "JpVuK2g5wCPq"
   },
   "source": [
    "## Outliers"
   ]
  },
  {
   "cell_type": "markdown",
   "metadata": {
    "id": "YEwB5V4txOTU"
   },
   "source": [
    "### Age"
   ]
  },
  {
   "cell_type": "code",
   "execution_count": 8,
   "metadata": {
    "colab": {
     "base_uri": "https://localhost:8080/",
     "height": 487
    },
    "executionInfo": {
     "elapsed": 36,
     "status": "ok",
     "timestamp": 1737288393921,
     "user": {
      "displayName": "giacomo lucato",
      "userId": "15571964377657343543"
     },
     "user_tz": -60
    },
    "id": "NlEbGwafwMhZ",
    "outputId": "06fa868e-a9be-4f5b-ff1c-1efc65b77579"
   },
   "outputs": [
    {
     "data": {
      "image/png": "[encoded data removed]",
      "text/plain": [
       "<Figure size 1000x500 with 1 Axes>"
      ]
     },
     "metadata": {},
     "output_type": "display_data"
    }
   ],
   "source": [
    "# Plotting a boxplot for the 'age' column\n",
    "plt.figure(figsize=(10, 5))\n",
    "\n",
    "sns.boxplot(x=data['age'], color=\"#245D5F\")\n",
    "plt.title(\"Boxplot of Age\")\n",
    "plt.xlabel(\"Age\")\n",
    "plt.ylabel(\"Value\")\n",
    "\n",
    "# Display the plot\n",
    "plt.show()"
   ]
  },
  {
   "cell_type": "code",
   "execution_count": 9,
   "metadata": {
    "colab": {
     "base_uri": "https://localhost:8080/",
     "height": 522
    },
    "executionInfo": {
     "elapsed": 35,
     "status": "ok",
     "timestamp": 1737288393922,
     "user": {
      "displayName": "giacomo lucato",
      "userId": "15571964377657343543"
     },
     "user_tz": -60
    },
    "id": "h4aI9vhCxYxd",
    "outputId": "071bd35a-1fd7-46f7-e4b8-8d4079958d17"
   },
   "outputs": [
    {
     "data": {
      "image/png": "[encoded data removed]",
      "text/plain": [
       "<Figure size 1000x600 with 1 Axes>"
      ]
     },
     "metadata": {},
     "output_type": "display_data"
    }
   ],
   "source": [
    "# histogram of Age\n",
    "\n",
    "plt.figure(figsize=(10, 6))\n",
    "\n",
    "plt.hist(data['age'], edgecolor='black')\n",
    "\n",
    "plt.show()"
   ]
  },
  {
   "cell_type": "markdown",
   "metadata": {
    "id": "B4GdLyCcxqZl"
   },
   "source": [
    "Age column does not contain outliers"
   ]
  },
  {
   "cell_type": "markdown",
   "metadata": {
    "id": "hYZPpdzVxyVB"
   },
   "source": [
    "### Avg Glucose Level"
   ]
  },
  {
   "cell_type": "code",
   "execution_count": 10,
   "metadata": {
    "colab": {
     "base_uri": "https://localhost:8080/",
     "height": 487
    },
    "executionInfo": {
     "elapsed": 32,
     "status": "ok",
     "timestamp": 1737288393922,
     "user": {
      "displayName": "giacomo lucato",
      "userId": "15571964377657343543"
     },
     "user_tz": -60
    },
    "id": "j8nDrxzkyGMz",
    "outputId": "ab34156b-6e67-4bd2-88b2-3d368d94515a"
   },
   "outputs": [
    {
     "data": {
      "image/png": "[encoded data removed]",
      "text/plain": [
       "<Figure size 1000x500 with 1 Axes>"
      ]
     },
     "metadata": {},
     "output_type": "display_data"
    }
   ],
   "source": [
    "# Plotting a boxplot for the 'age' column\n",
    "plt.figure(figsize=(10, 5))\n",
    "\n",
    "sns.boxplot(x=data['avg_glucose_level'], color=\"#245D5F\")\n",
    "plt.title(\"Boxplot of glucose level\")\n",
    "plt.xlabel(\"avg glucose level\")\n",
    "plt.ylabel(\"Value\")\n",
    "\n",
    "# Display the plot\n",
    "plt.show()"
   ]
  },
  {
   "cell_type": "code",
   "execution_count": 11,
   "metadata": {
    "colab": {
     "base_uri": "https://localhost:8080/",
     "height": 522
    },
    "executionInfo": {
     "elapsed": 1169,
     "status": "ok",
     "timestamp": 1737288395062,
     "user": {
      "displayName": "giacomo lucato",
      "userId": "15571964377657343543"
     },
     "user_tz": -60
    },
    "id": "hryp5WtczMxX",
    "outputId": "08b90359-8e59-4daf-9eda-9721ccd0ef10"
   },
   "outputs": [
    {
     "data": {
      "image/png": "[encoded data removed]",
      "text/plain": [
       "<Figure size 1000x600 with 1 Axes>"
      ]
     },
     "metadata": {},
     "output_type": "display_data"
    }
   ],
   "source": [
    "# histogram of glucose level\n",
    "\n",
    "plt.figure(figsize=(10, 6))\n",
    "\n",
    "plt.hist(data['avg_glucose_level'], edgecolor='black')\n",
    "\n",
    "plt.show()"
   ]
  },
  {
   "cell_type": "markdown",
   "metadata": {
    "id": "mHQotzrY84f2"
   },
   "source": [
    "Glucose level refers to the concentration of glucose (a type of sugar) present in the blood.\n",
    "\n",
    "Below are reported general ranges:\n",
    "\n",
    "Preprandial (Before Meal) Blood Glucose Levels:\n",
    "\n",
    "    Normal: 70 to 100 mg/dL\n",
    "    Prediabetes: 100 to 125 mg/dL\n",
    "    Diabetes: 126 mg/dL or higher (on more than one occasion)\n",
    "\n",
    "Postprandial (After Meal) Blood Glucose Levels:\n",
    "\n",
    "    Normal: Less than 140 mg/dL (measured 1-2 hours after eating)\n",
    "    Prediabetes: 140 to 199 mg/dL\n",
    "    Diabetes: 200 mg/dL or higher\n",
    "\n",
    "The distribution indicates that the values are concentrated around 80 mg/dL, with the presence of outliers to the right of the distribution.\n",
    "However, according to values provided by World Health Organization, values higher than 200 mg/dL are common in people suffering from diabetes.\n",
    "For this reason, we will not modify outliers, as glucose levels higher than 200 mg/dL are commonly observed in individuals with diabetes and are important features for the model."
   ]
  },
  {
   "cell_type": "markdown",
   "metadata": {
    "id": "RbPpSpPq_l1Z"
   },
   "source": [
    "### BMI"
   ]
  },
  {
   "cell_type": "code",
   "execution_count": 12,
   "metadata": {
    "colab": {
     "base_uri": "https://localhost:8080/",
     "height": 487
    },
    "executionInfo": {
     "elapsed": 42,
     "status": "ok",
     "timestamp": 1737288395063,
     "user": {
      "displayName": "giacomo lucato",
      "userId": "15571964377657343543"
     },
     "user_tz": -60
    },
    "id": "pras5VLO_0KU",
    "outputId": "d1c79967-1b8d-4267-e0fa-c4d283cce26b"
   },
   "outputs": [
    {
     "data": {
      "image/png": "[encoded data removed]",
      "text/plain": [
       "<Figure size 1000x500 with 1 Axes>"
      ]
     },
     "metadata": {},
     "output_type": "display_data"
    }
   ],
   "source": [
    "# Plotting a boxplot for the 'bmi' column\n",
    "plt.figure(figsize=(10, 5))\n",
    "\n",
    "sns.boxplot(x=data['bmi'], color=\"#245D5F\")\n",
    "plt.title(\"Boxplot of bmi\")\n",
    "plt.xlabel(\"BMI\")\n",
    "plt.ylabel(\"Value\")\n",
    "\n",
    "# Display the plot\n",
    "plt.show()"
   ]
  },
  {
   "cell_type": "code",
   "execution_count": 13,
   "metadata": {
    "colab": {
     "base_uri": "https://localhost:8080/",
     "height": 522
    },
    "executionInfo": {
     "elapsed": 39,
     "status": "ok",
     "timestamp": 1737288395063,
     "user": {
      "displayName": "giacomo lucato",
      "userId": "15571964377657343543"
     },
     "user_tz": -60
    },
    "id": "YPlSrPeXACkN",
    "outputId": "cd4ac8ab-01e7-4ba5-daa0-8883207ee71c"
   },
   "outputs": [
    {
     "data": {
      "image/png": "[encoded data removed]",
      "text/plain": [
       "<Figure size 1000x600 with 1 Axes>"
      ]
     },
     "metadata": {},
     "output_type": "display_data"
    }
   ],
   "source": [
    "# histogram of BMI\n",
    "\n",
    "plt.figure(figsize=(10, 6))\n",
    "\n",
    "plt.hist(data['bmi'], edgecolor='black')\n",
    "\n",
    "plt.show()"
   ]
  },
  {
   "cell_type": "markdown",
   "metadata": {
    "id": "V8XKwlylARav"
   },
   "source": [
    "BMI (Body Mass Index) is a measure of the body fat present in human body, calculated using a person's weight and height.\n",
    "Below are reported BMI values provided by World Health Organization.\n",
    "\n",
    "BMI Values:\n",
    "\n",
    "    Below 18.5: Underweight\n",
    "    18.5-24.9 : Normal Weight\n",
    "    25.0-29.9 : Pre-obesity\n",
    "    30.0-34.9 : Obesity Class I\n",
    "    35.0–39.9 : Obesity class II\n",
    "    Above 40  : Obesity class III\n",
    "\n",
    "According to data provided by WHO the maximum BMI possible value for a person with a medium height of 75 inches (1.9 meters) and a medium weight of 431 punds (195 kg) is 54.\n",
    "This means that BMI values higher than 54 are unreliable and need to be adjusted."
   ]
  },
  {
   "cell_type": "code",
   "execution_count": 14,
   "metadata": {
    "colab": {
     "base_uri": "https://localhost:8080/",
     "height": 459
    },
    "executionInfo": {
     "elapsed": 39,
     "status": "ok",
     "timestamp": 1737288395064,
     "user": {
      "displayName": "giacomo lucato",
      "userId": "15571964377657343543"
     },
     "user_tz": -60
    },
    "id": "NZY47iS_IfzS",
    "outputId": "97d7c870-79d6-4e51-a5c8-33330cbe25a2"
   },
   "outputs": [
    {
     "data": {
      "text/html": [
       "<div>\n",
       "<style scoped>\n",
       "    .dataframe tbody tr th:only-of-type {\n",
       "        vertical-align: middle;\n",
       "    }\n",
       "\n",
       "    .dataframe tbody tr th {\n",
       "        vertical-align: top;\n",
       "    }\n",
       "\n",
       "    .dataframe thead th {\n",
       "        text-align: right;\n",
       "    }\n",
       "</style>\n",
       "<table border=\"1\" class=\"dataframe\">\n",
       "  <thead>\n",
       "    <tr style=\"text-align: right;\">\n",
       "      <th></th>\n",
       "      <th>113</th>\n",
       "      <th>258</th>\n",
       "      <th>270</th>\n",
       "      <th>333</th>\n",
       "      <th>358</th>\n",
       "      <th>430</th>\n",
       "      <th>466</th>\n",
       "      <th>544</th>\n",
       "      <th>637</th>\n",
       "      <th>662</th>\n",
       "      <th>...</th>\n",
       "      <th>4154</th>\n",
       "      <th>4188</th>\n",
       "      <th>4209</th>\n",
       "      <th>4225</th>\n",
       "      <th>4351</th>\n",
       "      <th>4407</th>\n",
       "      <th>4475</th>\n",
       "      <th>4838</th>\n",
       "      <th>4906</th>\n",
       "      <th>4952</th>\n",
       "    </tr>\n",
       "  </thead>\n",
       "  <tbody>\n",
       "    <tr>\n",
       "      <th>gender</th>\n",
       "      <td>Female</td>\n",
       "      <td>Female</td>\n",
       "      <td>Female</td>\n",
       "      <td>Female</td>\n",
       "      <td>Male</td>\n",
       "      <td>Female</td>\n",
       "      <td>Female</td>\n",
       "      <td>Male</td>\n",
       "      <td>Female</td>\n",
       "      <td>Male</td>\n",
       "      <td>...</td>\n",
       "      <td>Female</td>\n",
       "      <td>Female</td>\n",
       "      <td>Male</td>\n",
       "      <td>Female</td>\n",
       "      <td>Female</td>\n",
       "      <td>Female</td>\n",
       "      <td>Female</td>\n",
       "      <td>Female</td>\n",
       "      <td>Female</td>\n",
       "      <td>Male</td>\n",
       "    </tr>\n",
       "    <tr>\n",
       "      <th>age</th>\n",
       "      <td>45.0</td>\n",
       "      <td>74.0</td>\n",
       "      <td>57.0</td>\n",
       "      <td>52.0</td>\n",
       "      <td>52.0</td>\n",
       "      <td>52.0</td>\n",
       "      <td>61.0</td>\n",
       "      <td>42.0</td>\n",
       "      <td>56.0</td>\n",
       "      <td>28.0</td>\n",
       "      <td>...</td>\n",
       "      <td>49.0</td>\n",
       "      <td>27.0</td>\n",
       "      <td>38.0</td>\n",
       "      <td>37.0</td>\n",
       "      <td>39.0</td>\n",
       "      <td>34.0</td>\n",
       "      <td>48.0</td>\n",
       "      <td>51.0</td>\n",
       "      <td>53.0</td>\n",
       "      <td>51.0</td>\n",
       "    </tr>\n",
       "    <tr>\n",
       "      <th>hypertension</th>\n",
       "      <td>0</td>\n",
       "      <td>1</td>\n",
       "      <td>1</td>\n",
       "      <td>0</td>\n",
       "      <td>0</td>\n",
       "      <td>0</td>\n",
       "      <td>1</td>\n",
       "      <td>0</td>\n",
       "      <td>0</td>\n",
       "      <td>0</td>\n",
       "      <td>...</td>\n",
       "      <td>0</td>\n",
       "      <td>0</td>\n",
       "      <td>1</td>\n",
       "      <td>0</td>\n",
       "      <td>0</td>\n",
       "      <td>0</td>\n",
       "      <td>1</td>\n",
       "      <td>0</td>\n",
       "      <td>0</td>\n",
       "      <td>1</td>\n",
       "    </tr>\n",
       "    <tr>\n",
       "      <th>heart_disease</th>\n",
       "      <td>0</td>\n",
       "      <td>0</td>\n",
       "      <td>0</td>\n",
       "      <td>0</td>\n",
       "      <td>0</td>\n",
       "      <td>1</td>\n",
       "      <td>0</td>\n",
       "      <td>0</td>\n",
       "      <td>0</td>\n",
       "      <td>0</td>\n",
       "      <td>...</td>\n",
       "      <td>0</td>\n",
       "      <td>0</td>\n",
       "      <td>0</td>\n",
       "      <td>0</td>\n",
       "      <td>0</td>\n",
       "      <td>0</td>\n",
       "      <td>0</td>\n",
       "      <td>0</td>\n",
       "      <td>0</td>\n",
       "      <td>0</td>\n",
       "    </tr>\n",
       "    <tr>\n",
       "      <th>ever_married</th>\n",
       "      <td>Yes</td>\n",
       "      <td>Yes</td>\n",
       "      <td>Yes</td>\n",
       "      <td>Yes</td>\n",
       "      <td>Yes</td>\n",
       "      <td>Yes</td>\n",
       "      <td>Yes</td>\n",
       "      <td>Yes</td>\n",
       "      <td>Yes</td>\n",
       "      <td>Yes</td>\n",
       "      <td>...</td>\n",
       "      <td>Yes</td>\n",
       "      <td>Yes</td>\n",
       "      <td>Yes</td>\n",
       "      <td>Yes</td>\n",
       "      <td>Yes</td>\n",
       "      <td>No</td>\n",
       "      <td>Yes</td>\n",
       "      <td>Yes</td>\n",
       "      <td>Yes</td>\n",
       "      <td>Yes</td>\n",
       "    </tr>\n",
       "    <tr>\n",
       "      <th>work_type</th>\n",
       "      <td>Private</td>\n",
       "      <td>Self-employed</td>\n",
       "      <td>Private</td>\n",
       "      <td>Private</td>\n",
       "      <td>Self-employed</td>\n",
       "      <td>Private</td>\n",
       "      <td>Private</td>\n",
       "      <td>Private</td>\n",
       "      <td>Private</td>\n",
       "      <td>Private</td>\n",
       "      <td>...</td>\n",
       "      <td>Private</td>\n",
       "      <td>Private</td>\n",
       "      <td>Private</td>\n",
       "      <td>Private</td>\n",
       "      <td>Private</td>\n",
       "      <td>Private</td>\n",
       "      <td>Govt_job</td>\n",
       "      <td>Private</td>\n",
       "      <td>Private</td>\n",
       "      <td>Self-employed</td>\n",
       "    </tr>\n",
       "    <tr>\n",
       "      <th>Residence_type</th>\n",
       "      <td>Rural</td>\n",
       "      <td>Urban</td>\n",
       "      <td>Rural</td>\n",
       "      <td>Urban</td>\n",
       "      <td>Urban</td>\n",
       "      <td>Urban</td>\n",
       "      <td>Rural</td>\n",
       "      <td>Rural</td>\n",
       "      <td>Rural</td>\n",
       "      <td>Urban</td>\n",
       "      <td>...</td>\n",
       "      <td>Rural</td>\n",
       "      <td>Rural</td>\n",
       "      <td>Rural</td>\n",
       "      <td>Rural</td>\n",
       "      <td>Urban</td>\n",
       "      <td>Urban</td>\n",
       "      <td>Rural</td>\n",
       "      <td>Urban</td>\n",
       "      <td>Urban</td>\n",
       "      <td>Rural</td>\n",
       "    </tr>\n",
       "    <tr>\n",
       "      <th>avg_glucose_level</th>\n",
       "      <td>224.1</td>\n",
       "      <td>205.84</td>\n",
       "      <td>129.54</td>\n",
       "      <td>82.24</td>\n",
       "      <td>78.4</td>\n",
       "      <td>72.79</td>\n",
       "      <td>170.05</td>\n",
       "      <td>210.48</td>\n",
       "      <td>112.43</td>\n",
       "      <td>87.43</td>\n",
       "      <td>...</td>\n",
       "      <td>125.63</td>\n",
       "      <td>57.96</td>\n",
       "      <td>56.9</td>\n",
       "      <td>77.1</td>\n",
       "      <td>87.39</td>\n",
       "      <td>70.87</td>\n",
       "      <td>221.08</td>\n",
       "      <td>107.72</td>\n",
       "      <td>70.51</td>\n",
       "      <td>211.83</td>\n",
       "    </tr>\n",
       "    <tr>\n",
       "      <th>bmi</th>\n",
       "      <td>56.6</td>\n",
       "      <td>54.6</td>\n",
       "      <td>60.9</td>\n",
       "      <td>54.7</td>\n",
       "      <td>64.8</td>\n",
       "      <td>54.7</td>\n",
       "      <td>60.2</td>\n",
       "      <td>71.9</td>\n",
       "      <td>54.6</td>\n",
       "      <td>55.7</td>\n",
       "      <td>...</td>\n",
       "      <td>57.2</td>\n",
       "      <td>64.4</td>\n",
       "      <td>92.0</td>\n",
       "      <td>55.9</td>\n",
       "      <td>57.9</td>\n",
       "      <td>55.7</td>\n",
       "      <td>57.2</td>\n",
       "      <td>60.9</td>\n",
       "      <td>54.1</td>\n",
       "      <td>56.6</td>\n",
       "    </tr>\n",
       "    <tr>\n",
       "      <th>smoking_status</th>\n",
       "      <td>never smoked</td>\n",
       "      <td>never smoked</td>\n",
       "      <td>smokes</td>\n",
       "      <td>formerly smoked</td>\n",
       "      <td>never smoked</td>\n",
       "      <td>never smoked</td>\n",
       "      <td>smokes</td>\n",
       "      <td>never smoked</td>\n",
       "      <td>never smoked</td>\n",
       "      <td>Unknown</td>\n",
       "      <td>...</td>\n",
       "      <td>Unknown</td>\n",
       "      <td>never smoked</td>\n",
       "      <td>never smoked</td>\n",
       "      <td>Unknown</td>\n",
       "      <td>never smoked</td>\n",
       "      <td>formerly smoked</td>\n",
       "      <td>never smoked</td>\n",
       "      <td>Unknown</td>\n",
       "      <td>never smoked</td>\n",
       "      <td>never smoked</td>\n",
       "    </tr>\n",
       "    <tr>\n",
       "      <th>stroke</th>\n",
       "      <td>1</td>\n",
       "      <td>0</td>\n",
       "      <td>0</td>\n",
       "      <td>0</td>\n",
       "      <td>0</td>\n",
       "      <td>0</td>\n",
       "      <td>0</td>\n",
       "      <td>0</td>\n",
       "      <td>0</td>\n",
       "      <td>0</td>\n",
       "      <td>...</td>\n",
       "      <td>0</td>\n",
       "      <td>0</td>\n",
       "      <td>0</td>\n",
       "      <td>0</td>\n",
       "      <td>0</td>\n",
       "      <td>0</td>\n",
       "      <td>0</td>\n",
       "      <td>0</td>\n",
       "      <td>0</td>\n",
       "      <td>0</td>\n",
       "    </tr>\n",
       "  </tbody>\n",
       "</table>\n",
       "<p>11 rows × 44 columns</p>\n",
       "</div>"
      ],
      "text/plain": [
       "                           113            258      270              333   \\\n",
       "gender                   Female         Female   Female           Female   \n",
       "age                        45.0           74.0     57.0             52.0   \n",
       "hypertension                  0              1        1                0   \n",
       "heart_disease                 0              0        0                0   \n",
       "ever_married                Yes            Yes      Yes              Yes   \n",
       "work_type               Private  Self-employed  Private          Private   \n",
       "Residence_type            Rural          Urban    Rural            Urban   \n",
       "avg_glucose_level         224.1         205.84   129.54            82.24   \n",
       "bmi                        56.6           54.6     60.9             54.7   \n",
       "smoking_status     never smoked   never smoked   smokes  formerly smoked   \n",
       "stroke                        1              0        0                0   \n",
       "\n",
       "                            358           430      466           544   \\\n",
       "gender                      Male        Female   Female          Male   \n",
       "age                         52.0          52.0     61.0          42.0   \n",
       "hypertension                   0             0        1             0   \n",
       "heart_disease                  0             1        0             0   \n",
       "ever_married                 Yes           Yes      Yes           Yes   \n",
       "work_type          Self-employed       Private  Private       Private   \n",
       "Residence_type             Urban         Urban    Rural         Rural   \n",
       "avg_glucose_level           78.4         72.79   170.05        210.48   \n",
       "bmi                         64.8          54.7     60.2          71.9   \n",
       "smoking_status      never smoked  never smoked   smokes  never smoked   \n",
       "stroke                         0             0        0             0   \n",
       "\n",
       "                           637      662   ...     4154          4188  \\\n",
       "gender                   Female     Male  ...   Female        Female   \n",
       "age                        56.0     28.0  ...     49.0          27.0   \n",
       "hypertension                  0        0  ...        0             0   \n",
       "heart_disease                 0        0  ...        0             0   \n",
       "ever_married                Yes      Yes  ...      Yes           Yes   \n",
       "work_type               Private  Private  ...  Private       Private   \n",
       "Residence_type            Rural    Urban  ...    Rural         Rural   \n",
       "avg_glucose_level        112.43    87.43  ...   125.63         57.96   \n",
       "bmi                        54.6     55.7  ...     57.2          64.4   \n",
       "smoking_status     never smoked  Unknown  ...  Unknown  never smoked   \n",
       "stroke                        0        0  ...        0             0   \n",
       "\n",
       "                           4209     4225          4351             4407  \\\n",
       "gender                     Male   Female        Female           Female   \n",
       "age                        38.0     37.0          39.0             34.0   \n",
       "hypertension                  1        0             0                0   \n",
       "heart_disease                 0        0             0                0   \n",
       "ever_married                Yes      Yes           Yes               No   \n",
       "work_type               Private  Private       Private          Private   \n",
       "Residence_type            Rural    Rural         Urban            Urban   \n",
       "avg_glucose_level          56.9     77.1         87.39            70.87   \n",
       "bmi                        92.0     55.9          57.9             55.7   \n",
       "smoking_status     never smoked  Unknown  never smoked  formerly smoked   \n",
       "stroke                        0        0             0                0   \n",
       "\n",
       "                           4475     4838          4906           4952  \n",
       "gender                   Female   Female        Female           Male  \n",
       "age                        48.0     51.0          53.0           51.0  \n",
       "hypertension                  1        0             0              1  \n",
       "heart_disease                 0        0             0              0  \n",
       "ever_married                Yes      Yes           Yes            Yes  \n",
       "work_type              Govt_job  Private       Private  Self-employed  \n",
       "Residence_type            Rural    Urban         Urban          Rural  \n",
       "avg_glucose_level        221.08   107.72         70.51         211.83  \n",
       "bmi                        57.2     60.9          54.1           56.6  \n",
       "smoking_status     never smoked  Unknown  never smoked   never smoked  \n",
       "stroke                        0        0             0              0  \n",
       "\n",
       "[11 rows x 44 columns]"
      ]
     },
     "execution_count": 14,
     "metadata": {},
     "output_type": "execute_result"
    }
   ],
   "source": [
    "# Detect rows where BMI is greater than 54\n",
    "column = 'bmi'\n",
    "threshold = 54\n",
    "\n",
    "# select rows where the value in the column is greater than the threshold\n",
    "selected_rows = data[data[column] > threshold]\n",
    "\n",
    "# display the results\n",
    "selected_rows.T"
   ]
  },
  {
   "cell_type": "markdown",
   "metadata": {
    "id": "_0s_21ptJ31U"
   },
   "source": [
    "There are some rows with an unreliable BMI value, greater than 54.\n",
    "We are going to adjust them, as we did for missing values."
   ]
  },
  {
   "cell_type": "code",
   "execution_count": 15,
   "metadata": {
    "executionInfo": {
     "elapsed": 36,
     "status": "ok",
     "timestamp": 1737288395064,
     "user": {
      "displayName": "giacomo lucato",
      "userId": "15571964377657343543"
     },
     "user_tz": -60
    },
    "id": "JO7zov-iKlcK"
   },
   "outputs": [],
   "source": [
    "# define the numeric threshold\n",
    "threshold = 54\n",
    "\n",
    "# replace all 'bmi' values greater than the threshold with NaN\n",
    "data.loc[data['bmi'] > threshold, 'bmi'] = np.nan"
   ]
  },
  {
   "cell_type": "code",
   "execution_count": 16,
   "metadata": {
    "colab": {
     "base_uri": "https://localhost:8080/"
    },
    "executionInfo": {
     "elapsed": 36,
     "status": "ok",
     "timestamp": 1737288395064,
     "user": {
      "displayName": "giacomo lucato",
      "userId": "15571964377657343543"
     },
     "user_tz": -60
    },
    "id": "pH2bRmwRK8dL",
    "outputId": "ab718323-b533-458f-973a-ffd4e507d1ba"
   },
   "outputs": [
    {
     "data": {
      "text/plain": [
       "np.int64(245)"
      ]
     },
     "execution_count": 16,
     "metadata": {},
     "output_type": "execute_result"
    }
   ],
   "source": [
    "# check the null values of the bmi column\n",
    "data['bmi'].isnull().sum()"
   ]
  },
  {
   "cell_type": "code",
   "execution_count": 17,
   "metadata": {
    "executionInfo": {
     "elapsed": 29,
     "status": "ok",
     "timestamp": 1737288395064,
     "user": {
      "displayName": "giacomo lucato",
      "userId": "15571964377657343543"
     },
     "user_tz": -60
    },
    "id": "gBjZPAQ9LcbY"
   },
   "outputs": [],
   "source": [
    "# fill the missing values in the bmi column with the value 54\n",
    "data['bmi'] = data['bmi'].fillna(54)"
   ]
  },
  {
   "cell_type": "code",
   "execution_count": 18,
   "metadata": {
    "colab": {
     "base_uri": "https://localhost:8080/"
    },
    "executionInfo": {
     "elapsed": 29,
     "status": "ok",
     "timestamp": 1737288395064,
     "user": {
      "displayName": "giacomo lucato",
      "userId": "15571964377657343543"
     },
     "user_tz": -60
    },
    "id": "Lh7VC8N9Ln9M",
    "outputId": "dc4cdbfe-d5d6-401e-9d06-6d3841f656e4"
   },
   "outputs": [
    {
     "data": {
      "text/plain": [
       "np.int64(0)"
      ]
     },
     "execution_count": 18,
     "metadata": {},
     "output_type": "execute_result"
    }
   ],
   "source": [
    "# check the bmi column for missing values\n",
    "data['bmi'].isnull().sum()"
   ]
  },
  {
   "cell_type": "markdown",
   "metadata": {
    "id": "Yy80WtggMZAh"
   },
   "source": [
    "## Feature Correlation"
   ]
  },
  {
   "cell_type": "markdown",
   "metadata": {
    "id": "JaD_2IHgUTgh"
   },
   "source": [
    "### Numerical Features and Target Variable"
   ]
  },
  {
   "cell_type": "code",
   "execution_count": 19,
   "metadata": {
    "colab": {
     "base_uri": "https://localhost:8080/",
     "height": 468
    },
    "executionInfo": {
     "elapsed": 25,
     "status": "ok",
     "timestamp": 1737288395065,
     "user": {
      "displayName": "giacomo lucato",
      "userId": "15571964377657343543"
     },
     "user_tz": -60
    },
    "id": "etTvJaRYNRGa",
    "outputId": "5e36e32e-13fd-4caa-90b2-517e1de6c750"
   },
   "outputs": [
    {
     "data": {
      "image/png": "[encoded data removed]",
      "text/plain": [
       "<Figure size 600x500 with 2 Axes>"
      ]
     },
     "metadata": {},
     "output_type": "display_data"
    }
   ],
   "source": [
    "# Separate numeric columns only\n",
    "numeric_columns = data.select_dtypes(include=['float64', 'int64']).columns\n",
    "\n",
    "# Calculate the correlation matrix of the numeric columns\n",
    "correlation_matrix = data[numeric_columns].corr()\n",
    "\n",
    "# Calculate the correlation of numeric columns with respect to the target 'stroke'\n",
    "correlation_target = data[numeric_columns].corrwith(data['stroke']).sort_values(ascending=False)\n",
    "\n",
    "# Plotting the correlation with target\n",
    "plt.figure(figsize=(6, 5))\n",
    "sns.heatmap(correlation_target.to_frame(), annot=True, cmap=\"coolwarm\", fmt='.2f', linewidths=0.5, vmin=-1, vmax=1)\n",
    "\n",
    "plt.title('Feature-Target Correlation Heatmap')\n",
    "plt.show()"
   ]
  },
  {
   "cell_type": "markdown",
   "metadata": {
    "id": "G0f-ErjqNo28"
   },
   "source": [
    "Understanding correlation among features can be useful to detect variables significantly related to the target variable and which features have the same behaviour and can therefore be dropped in a feature selection phase."
   ]
  },
  {
   "cell_type": "markdown",
   "metadata": {
    "id": "1XIybSZ7OVku"
   },
   "source": [
    "#### Stroke and Age"
   ]
  },
  {
   "cell_type": "code",
   "execution_count": 20,
   "metadata": {
    "colab": {
     "base_uri": "https://localhost:8080/",
     "height": 472
    },
    "executionInfo": {
     "elapsed": 23,
     "status": "ok",
     "timestamp": 1737288395065,
     "user": {
      "displayName": "giacomo lucato",
      "userId": "15571964377657343543"
     },
     "user_tz": -60
    },
    "id": "oUVOzewoOkQ0",
    "outputId": "7df269e7-4769-47ed-afaa-a85c81d9d711"
   },
   "outputs": [
    {
     "data": {
      "image/png": "[encoded data removed]",
      "text/plain": [
       "<Figure size 640x480 with 1 Axes>"
      ]
     },
     "metadata": {},
     "output_type": "display_data"
    }
   ],
   "source": [
    "sns.boxplot(x='stroke', y='age', data=data)\n",
    "\n",
    "plt.title('Age vs. Stroke')\n",
    "plt.xlabel('Stroke')\n",
    "plt.ylabel('Age')\n",
    "plt.show()"
   ]
  },
  {
   "cell_type": "code",
   "execution_count": 21,
   "metadata": {
    "colab": {
     "base_uri": "https://localhost:8080/",
     "height": 472
    },
    "executionInfo": {
     "elapsed": 26,
     "status": "ok",
     "timestamp": 1737288396222,
     "user": {
      "displayName": "giacomo lucato",
      "userId": "15571964377657343543"
     },
     "user_tz": -60
    },
    "id": "hWNUAEEJQTDK",
    "outputId": "6f6f66c8-e539-406f-e3fc-2b93145d30a4"
   },
   "outputs": [
    {
     "data": {
      "image/png": "[encoded data removed]",
      "text/plain": [
       "<Figure size 640x480 with 1 Axes>"
      ]
     },
     "metadata": {},
     "output_type": "display_data"
    }
   ],
   "source": [
    "sns.violinplot(x='stroke', y='age', data=data)\n",
    "plt.title('Age vs. Stroke')\n",
    "plt.xlabel('Stroke')\n",
    "plt.ylabel('Age')\n",
    "plt.show()"
   ]
  },
  {
   "cell_type": "markdown",
   "metadata": {},
   "source": [
    "The distribution of the age variable differs significantly between individuals who experienced a stroke and those who did not. While stroke-free individuals are spread across all age groups, with a slight concentration around age 40, stroke occurrences are predominantly concentrated in older individuals, peaking between 70 and 80 years. This suggests that age is a significant risk factor for stroke, with a higher likelihood of occurrence in elderly individuals."
   ]
  },
  {
   "cell_type": "markdown",
   "metadata": {
    "id": "Mfvmfm12Qsg2"
   },
   "source": [
    "#### Stroke and BMI"
   ]
  },
  {
   "cell_type": "code",
   "execution_count": 22,
   "metadata": {
    "colab": {
     "base_uri": "https://localhost:8080/",
     "height": 472
    },
    "executionInfo": {
     "elapsed": 23,
     "status": "ok",
     "timestamp": 1737288396223,
     "user": {
      "displayName": "giacomo lucato",
      "userId": "15571964377657343543"
     },
     "user_tz": -60
    },
    "id": "9DszhJlVQzfo",
    "outputId": "58e4c9a4-b97a-4262-cc23-fae81c7091c1"
   },
   "outputs": [
    {
     "data": {
      "image/png": "[encoded data removed]",
      "text/plain": [
       "<Figure size 640x480 with 1 Axes>"
      ]
     },
     "metadata": {},
     "output_type": "display_data"
    }
   ],
   "source": [
    "sns.boxplot(x='stroke', y='bmi', data=data)\n",
    "plt.title('BMI vs. Stroke')\n",
    "plt.xlabel('Stroke')\n",
    "plt.ylabel('BMI')\n",
    "plt.show()"
   ]
  },
  {
   "cell_type": "code",
   "execution_count": null,
   "metadata": {
    "colab": {
     "base_uri": "https://localhost:8080/",
     "height": 472
    },
    "executionInfo": {
     "elapsed": 21,
     "status": "ok",
     "timestamp": 1737288396223,
     "user": {
      "displayName": "giacomo lucato",
      "userId": "15571964377657343543"
     },
     "user_tz": -60
    },
    "id": "8MZuHX4cQ8ZL",
    "outputId": "cee90de6-ad0b-4811-d6e7-c25970733684"
   },
   "outputs": [
    {
     "data": {
      "image/png": "[encoded data removed]",
      "text/plain": [
       "<Figure size 640x480 with 1 Axes>"
      ]
     },
     "metadata": {},
     "output_type": "display_data"
    }
   ],
   "source": [
    "sns.violinplot(x='stroke', y='bmi', data=data)\n",
    "plt.title('BMI vs. Stroke')\n",
    "plt.xlabel('Stroke')\n",
    "plt.ylabel('BMI')\n",
    "plt.show()"
   ]
  },
  {
   "cell_type": "markdown",
   "metadata": {
    "id": "jlqwfV0vSs6i"
   },
   "source": [
    "The average BMI for both individuals who experienced a stroke and those who did not is approximately 30. This suggests that BMI alone does not exhibit a strong correlation with stroke occurrence. While BMI may still contribute to stroke risk in combination with other factors, its isolated impact appears to be limited based on this analysis."
   ]
  },
  {
   "cell_type": "markdown",
   "metadata": {
    "id": "N72-KVCERL0O"
   },
   "source": [
    "#### Stroke and Glucose Level"
   ]
  },
  {
   "cell_type": "code",
   "execution_count": 119,
   "metadata": {
    "colab": {
     "base_uri": "https://localhost:8080/",
     "height": 472
    },
    "executionInfo": {
     "elapsed": 19,
     "status": "ok",
     "timestamp": 1737288396223,
     "user": {
      "displayName": "giacomo lucato",
      "userId": "15571964377657343543"
     },
     "user_tz": -60
    },
    "id": "MeY0V2zvRP2n",
    "outputId": "f5cf6cf6-0ae6-40ce-f3c7-d4e1060ba271"
   },
   "outputs": [
    {
     "data": {
      "image/png": "[encoded data removed]",
      "text/plain": [
       "<Figure size 640x480 with 1 Axes>"
      ]
     },
     "metadata": {},
     "output_type": "display_data"
    }
   ],
   "source": [
    "sns.boxplot(x='stroke', y='avg_glucose_level', data=data)\n",
    "plt.title('Glucose Level vs. Stroke')\n",
    "plt.xlabel('Stroke')\n",
    "plt.ylabel('Glucose Level')\n",
    "plt.show()"
   ]
  },
  {
   "cell_type": "code",
   "execution_count": 120,
   "metadata": {
    "colab": {
     "base_uri": "https://localhost:8080/",
     "height": 472
    },
    "executionInfo": {
     "elapsed": 18,
     "status": "ok",
     "timestamp": 1737288396224,
     "user": {
      "displayName": "giacomo lucato",
      "userId": "15571964377657343543"
     },
     "user_tz": -60
    },
    "id": "RycPGA6uRQB7",
    "outputId": "d43dd6e0-18e0-45f6-ca03-fa88a9e5f228"
   },
   "outputs": [
    {
     "data": {
      "image/png": "[encoded data removed]",
      "text/plain": [
       "<Figure size 640x480 with 1 Axes>"
      ]
     },
     "metadata": {},
     "output_type": "display_data"
    }
   ],
   "source": [
    "sns.violinplot(x='stroke', y='avg_glucose_level', data=data)\n",
    "\n",
    "plt.title('Glucose Level vs. Stroke')\n",
    "plt.xlabel('Stroke')\n",
    "plt.ylabel('Glucose Level')\n",
    "plt.show()"
   ]
  },
  {
   "cell_type": "markdown",
   "metadata": {
    "id": "HSME46qkT4Ek"
   },
   "source": [
    "The distribution of average glucose levels shows two main concentrations: one around 80 mg/dL and another around 200 mg/dL, for both individuals who experienced a stroke and those who did not. This suggests that glucode levels alone may not be a strong distinguishing factor for stroke occurrence.   "
   ]
  },
  {
   "cell_type": "markdown",
   "metadata": {
    "id": "Or27stOLXixW"
   },
   "source": [
    "### Categorical Features and Target Variable"
   ]
  },
  {
   "cell_type": "code",
   "execution_count": 23,
   "metadata": {
    "colab": {
     "base_uri": "https://localhost:8080/",
     "height": 1000
    },
    "executionInfo": {
     "elapsed": 1365,
     "status": "ok",
     "timestamp": 1737288397573,
     "user": {
      "displayName": "giacomo lucato",
      "userId": "15571964377657343543"
     },
     "user_tz": -60
    },
    "id": "gLOHhUEjBgtH",
    "outputId": "5b579a68-d8e8-47ca-dc3e-fa5cc8bf6c94"
   },
   "outputs": [
    {
     "data": {
      "image/png": "[encoded data removed]",
      "text/plain": [
       "<Figure size 2000x1300 with 7 Axes>"
      ]
     },
     "metadata": {},
     "output_type": "display_data"
    }
   ],
   "source": [
    "columns = ['gender','hypertension','ever_married','work_type','Residence_type','smoking_status','heart_disease',]\n",
    "\n",
    "plt.figure(figsize=(20, 13))\n",
    "for col in range(len(columns)):\n",
    "    plt.subplot(3, 3, col + 1)\n",
    "    sns.countplot(x=data[columns[col]], hue=data['stroke'], palette=\"ch:start=.5,rot=-.5\")\n",
    "    plt.title(columns[col])\n",
    "    plt.xlabel(columns[col])\n",
    "    plt.ylabel(\"Count\")\n",
    "plt.tight_layout()  \n",
    "plt.show()\n"
   ]
  },
  {
   "cell_type": "markdown",
   "metadata": {
    "id": "dheIcr6dZGJk"
   },
   "source": [
    "### Multicollinearity"
   ]
  },
  {
   "cell_type": "code",
   "execution_count": 122,
   "metadata": {
    "colab": {
     "base_uri": "https://localhost:8080/",
     "height": 699
    },
    "executionInfo": {
     "elapsed": 26,
     "status": "ok",
     "timestamp": 1737288397574,
     "user": {
      "displayName": "giacomo lucato",
      "userId": "15571964377657343543"
     },
     "user_tz": -60
    },
    "id": "udR7i7QoZlwn",
    "outputId": "e5d85b88-a7b3-4cd6-fe4a-0f312113b07f"
   },
   "outputs": [
    {
     "data": {
      "image/png": "[encoded data removed]",
      "text/plain": [
       "<Figure size 1200x800 with 2 Axes>"
      ]
     },
     "metadata": {},
     "output_type": "display_data"
    }
   ],
   "source": [
    "import seaborn as sns\n",
    "import matplotlib.pyplot as plt\n",
    "\n",
    "# Select only numerical columns (excluding 'stroke' and non-numeric features)\n",
    "numerical_data = data.select_dtypes(include=['float64', 'int64'])\n",
    "\n",
    "# Compute the correlation matrix\n",
    "correlation_matrix = numerical_data.corr()\n",
    "\n",
    "# Print or visualize the correlation matrix\n",
    "plt.figure(figsize=(12, 8))\n",
    "sns.heatmap(correlation_matrix, annot=True, cmap='coolwarm', fmt='.2f', linewidths=0.5)\n",
    "plt.title(\"Correlation Matrix of Numerical Features\")\n",
    "plt.show()"
   ]
  },
  {
   "cell_type": "markdown",
   "metadata": {
    "id": "3FwpIOlqbJho"
   },
   "source": [
    "It does not seem to be any strong correlation between pairs of features.\n",
    "From what we can see we can suppose features are independent."
   ]
  },
  {
   "cell_type": "markdown",
   "metadata": {
    "id": "fcLqSprabbsg"
   },
   "source": [
    "## Categorical Variables"
   ]
  },
  {
   "cell_type": "code",
   "execution_count": 24,
   "metadata": {
    "executionInfo": {
     "elapsed": 24,
     "status": "ok",
     "timestamp": 1737288397575,
     "user": {
      "displayName": "giacomo lucato",
      "userId": "15571964377657343543"
     },
     "user_tz": -60
    },
    "id": "FT_3NVvqcKy9"
   },
   "outputs": [
    {
     "data": {
      "text/html": [
       "<div>\n",
       "<style scoped>\n",
       "    .dataframe tbody tr th:only-of-type {\n",
       "        vertical-align: middle;\n",
       "    }\n",
       "\n",
       "    .dataframe tbody tr th {\n",
       "        vertical-align: top;\n",
       "    }\n",
       "\n",
       "    .dataframe thead th {\n",
       "        text-align: right;\n",
       "    }\n",
       "</style>\n",
       "<table border=\"1\" class=\"dataframe\">\n",
       "  <thead>\n",
       "    <tr style=\"text-align: right;\">\n",
       "      <th></th>\n",
       "      <th>age</th>\n",
       "      <th>hypertension</th>\n",
       "      <th>heart_disease</th>\n",
       "      <th>avg_glucose_level</th>\n",
       "      <th>bmi</th>\n",
       "      <th>stroke</th>\n",
       "      <th>gender_Male</th>\n",
       "      <th>ever_married_Yes</th>\n",
       "      <th>work_type_Never_worked</th>\n",
       "      <th>work_type_Private</th>\n",
       "      <th>work_type_Self-employed</th>\n",
       "      <th>work_type_children</th>\n",
       "      <th>Residence_type_Urban</th>\n",
       "      <th>smoking_status_formerly smoked</th>\n",
       "      <th>smoking_status_never smoked</th>\n",
       "      <th>smoking_status_smokes</th>\n",
       "    </tr>\n",
       "  </thead>\n",
       "  <tbody>\n",
       "    <tr>\n",
       "      <th>0</th>\n",
       "      <td>67</td>\n",
       "      <td>0</td>\n",
       "      <td>1</td>\n",
       "      <td>228</td>\n",
       "      <td>36</td>\n",
       "      <td>1</td>\n",
       "      <td>1</td>\n",
       "      <td>1</td>\n",
       "      <td>0</td>\n",
       "      <td>1</td>\n",
       "      <td>0</td>\n",
       "      <td>0</td>\n",
       "      <td>1</td>\n",
       "      <td>1</td>\n",
       "      <td>0</td>\n",
       "      <td>0</td>\n",
       "    </tr>\n",
       "    <tr>\n",
       "      <th>1</th>\n",
       "      <td>61</td>\n",
       "      <td>0</td>\n",
       "      <td>0</td>\n",
       "      <td>202</td>\n",
       "      <td>54</td>\n",
       "      <td>1</td>\n",
       "      <td>0</td>\n",
       "      <td>1</td>\n",
       "      <td>0</td>\n",
       "      <td>0</td>\n",
       "      <td>1</td>\n",
       "      <td>0</td>\n",
       "      <td>0</td>\n",
       "      <td>0</td>\n",
       "      <td>1</td>\n",
       "      <td>0</td>\n",
       "    </tr>\n",
       "    <tr>\n",
       "      <th>2</th>\n",
       "      <td>80</td>\n",
       "      <td>0</td>\n",
       "      <td>1</td>\n",
       "      <td>105</td>\n",
       "      <td>32</td>\n",
       "      <td>1</td>\n",
       "      <td>1</td>\n",
       "      <td>1</td>\n",
       "      <td>0</td>\n",
       "      <td>1</td>\n",
       "      <td>0</td>\n",
       "      <td>0</td>\n",
       "      <td>0</td>\n",
       "      <td>0</td>\n",
       "      <td>1</td>\n",
       "      <td>0</td>\n",
       "    </tr>\n",
       "    <tr>\n",
       "      <th>3</th>\n",
       "      <td>49</td>\n",
       "      <td>0</td>\n",
       "      <td>0</td>\n",
       "      <td>171</td>\n",
       "      <td>34</td>\n",
       "      <td>1</td>\n",
       "      <td>0</td>\n",
       "      <td>1</td>\n",
       "      <td>0</td>\n",
       "      <td>1</td>\n",
       "      <td>0</td>\n",
       "      <td>0</td>\n",
       "      <td>1</td>\n",
       "      <td>0</td>\n",
       "      <td>0</td>\n",
       "      <td>1</td>\n",
       "    </tr>\n",
       "    <tr>\n",
       "      <th>4</th>\n",
       "      <td>79</td>\n",
       "      <td>1</td>\n",
       "      <td>0</td>\n",
       "      <td>174</td>\n",
       "      <td>24</td>\n",
       "      <td>1</td>\n",
       "      <td>0</td>\n",
       "      <td>1</td>\n",
       "      <td>0</td>\n",
       "      <td>0</td>\n",
       "      <td>1</td>\n",
       "      <td>0</td>\n",
       "      <td>0</td>\n",
       "      <td>0</td>\n",
       "      <td>1</td>\n",
       "      <td>0</td>\n",
       "    </tr>\n",
       "    <tr>\n",
       "      <th>...</th>\n",
       "      <td>...</td>\n",
       "      <td>...</td>\n",
       "      <td>...</td>\n",
       "      <td>...</td>\n",
       "      <td>...</td>\n",
       "      <td>...</td>\n",
       "      <td>...</td>\n",
       "      <td>...</td>\n",
       "      <td>...</td>\n",
       "      <td>...</td>\n",
       "      <td>...</td>\n",
       "      <td>...</td>\n",
       "      <td>...</td>\n",
       "      <td>...</td>\n",
       "      <td>...</td>\n",
       "      <td>...</td>\n",
       "    </tr>\n",
       "    <tr>\n",
       "      <th>5105</th>\n",
       "      <td>80</td>\n",
       "      <td>1</td>\n",
       "      <td>0</td>\n",
       "      <td>83</td>\n",
       "      <td>54</td>\n",
       "      <td>0</td>\n",
       "      <td>0</td>\n",
       "      <td>1</td>\n",
       "      <td>0</td>\n",
       "      <td>1</td>\n",
       "      <td>0</td>\n",
       "      <td>0</td>\n",
       "      <td>1</td>\n",
       "      <td>0</td>\n",
       "      <td>1</td>\n",
       "      <td>0</td>\n",
       "    </tr>\n",
       "    <tr>\n",
       "      <th>5106</th>\n",
       "      <td>81</td>\n",
       "      <td>0</td>\n",
       "      <td>0</td>\n",
       "      <td>125</td>\n",
       "      <td>40</td>\n",
       "      <td>0</td>\n",
       "      <td>0</td>\n",
       "      <td>1</td>\n",
       "      <td>0</td>\n",
       "      <td>0</td>\n",
       "      <td>1</td>\n",
       "      <td>0</td>\n",
       "      <td>1</td>\n",
       "      <td>0</td>\n",
       "      <td>1</td>\n",
       "      <td>0</td>\n",
       "    </tr>\n",
       "    <tr>\n",
       "      <th>5107</th>\n",
       "      <td>35</td>\n",
       "      <td>0</td>\n",
       "      <td>0</td>\n",
       "      <td>82</td>\n",
       "      <td>30</td>\n",
       "      <td>0</td>\n",
       "      <td>0</td>\n",
       "      <td>1</td>\n",
       "      <td>0</td>\n",
       "      <td>0</td>\n",
       "      <td>1</td>\n",
       "      <td>0</td>\n",
       "      <td>0</td>\n",
       "      <td>0</td>\n",
       "      <td>1</td>\n",
       "      <td>0</td>\n",
       "    </tr>\n",
       "    <tr>\n",
       "      <th>5108</th>\n",
       "      <td>51</td>\n",
       "      <td>0</td>\n",
       "      <td>0</td>\n",
       "      <td>166</td>\n",
       "      <td>25</td>\n",
       "      <td>0</td>\n",
       "      <td>1</td>\n",
       "      <td>1</td>\n",
       "      <td>0</td>\n",
       "      <td>1</td>\n",
       "      <td>0</td>\n",
       "      <td>0</td>\n",
       "      <td>0</td>\n",
       "      <td>1</td>\n",
       "      <td>0</td>\n",
       "      <td>0</td>\n",
       "    </tr>\n",
       "    <tr>\n",
       "      <th>5109</th>\n",
       "      <td>44</td>\n",
       "      <td>0</td>\n",
       "      <td>0</td>\n",
       "      <td>85</td>\n",
       "      <td>26</td>\n",
       "      <td>0</td>\n",
       "      <td>0</td>\n",
       "      <td>1</td>\n",
       "      <td>0</td>\n",
       "      <td>0</td>\n",
       "      <td>0</td>\n",
       "      <td>0</td>\n",
       "      <td>1</td>\n",
       "      <td>0</td>\n",
       "      <td>0</td>\n",
       "      <td>0</td>\n",
       "    </tr>\n",
       "  </tbody>\n",
       "</table>\n",
       "<p>5110 rows × 16 columns</p>\n",
       "</div>"
      ],
      "text/plain": [
       "      age  hypertension  heart_disease  avg_glucose_level  bmi  stroke  \\\n",
       "0      67             0              1                228   36       1   \n",
       "1      61             0              0                202   54       1   \n",
       "2      80             0              1                105   32       1   \n",
       "3      49             0              0                171   34       1   \n",
       "4      79             1              0                174   24       1   \n",
       "...   ...           ...            ...                ...  ...     ...   \n",
       "5105   80             1              0                 83   54       0   \n",
       "5106   81             0              0                125   40       0   \n",
       "5107   35             0              0                 82   30       0   \n",
       "5108   51             0              0                166   25       0   \n",
       "5109   44             0              0                 85   26       0   \n",
       "\n",
       "      gender_Male  ever_married_Yes  work_type_Never_worked  \\\n",
       "0               1                 1                       0   \n",
       "1               0                 1                       0   \n",
       "2               1                 1                       0   \n",
       "3               0                 1                       0   \n",
       "4               0                 1                       0   \n",
       "...           ...               ...                     ...   \n",
       "5105            0                 1                       0   \n",
       "5106            0                 1                       0   \n",
       "5107            0                 1                       0   \n",
       "5108            1                 1                       0   \n",
       "5109            0                 1                       0   \n",
       "\n",
       "      work_type_Private  work_type_Self-employed  work_type_children  \\\n",
       "0                     1                        0                   0   \n",
       "1                     0                        1                   0   \n",
       "2                     1                        0                   0   \n",
       "3                     1                        0                   0   \n",
       "4                     0                        1                   0   \n",
       "...                 ...                      ...                 ...   \n",
       "5105                  1                        0                   0   \n",
       "5106                  0                        1                   0   \n",
       "5107                  0                        1                   0   \n",
       "5108                  1                        0                   0   \n",
       "5109                  0                        0                   0   \n",
       "\n",
       "      Residence_type_Urban  smoking_status_formerly smoked  \\\n",
       "0                        1                               1   \n",
       "1                        0                               0   \n",
       "2                        0                               0   \n",
       "3                        1                               0   \n",
       "4                        0                               0   \n",
       "...                    ...                             ...   \n",
       "5105                     1                               0   \n",
       "5106                     1                               0   \n",
       "5107                     0                               0   \n",
       "5108                     0                               1   \n",
       "5109                     1                               0   \n",
       "\n",
       "      smoking_status_never smoked  smoking_status_smokes  \n",
       "0                               0                      0  \n",
       "1                               1                      0  \n",
       "2                               1                      0  \n",
       "3                               0                      1  \n",
       "4                               1                      0  \n",
       "...                           ...                    ...  \n",
       "5105                            1                      0  \n",
       "5106                            1                      0  \n",
       "5107                            1                      0  \n",
       "5108                            0                      0  \n",
       "5109                            0                      0  \n",
       "\n",
       "[5110 rows x 16 columns]"
      ]
     },
     "execution_count": 24,
     "metadata": {},
     "output_type": "execute_result"
    }
   ],
   "source": [
    "# Select categorical columns\n",
    "categorical_cols = data.select_dtypes(include=['object']).columns\n",
    "\n",
    "# Apply one-hot encoding to only the categorical columns, drop the first dummy column for each\n",
    "data = pd.get_dummies(data, columns=categorical_cols, drop_first=True).astype(int)\n",
    "\n",
    "data\n"
   ]
  },
  {
   "cell_type": "markdown",
   "metadata": {
    "id": "P4N__8rCdDCh"
   },
   "source": [
    "# Scale, Split, Train, Test"
   ]
  },
  {
   "cell_type": "markdown",
   "metadata": {
    "id": "8pvluDyHL_H1"
   },
   "source": [
    "## Splitting"
   ]
  },
  {
   "cell_type": "code",
   "execution_count": 25,
   "metadata": {
    "colab": {
     "base_uri": "https://localhost:8080/",
     "height": 795
    },
    "executionInfo": {
     "elapsed": 24,
     "status": "ok",
     "timestamp": 1737288397575,
     "user": {
      "displayName": "giacomo lucato",
      "userId": "15571964377657343543"
     },
     "user_tz": -60
    },
    "id": "lZf3OZBuG6Ou",
    "outputId": "3300a2dc-0c2f-43ae-b0c2-05357a3b06be"
   },
   "outputs": [
    {
     "data": {
      "image/png": "[encoded data removed]",
      "text/plain": [
       "<Figure size 800x500 with 1 Axes>"
      ]
     },
     "metadata": {},
     "output_type": "display_data"
    }
   ],
   "source": [
    "# Understading balance of the dataset\n",
    "plt.figure(figsize=(8,5))\n",
    "sns.countplot(x=data[\"stroke\"])\n",
    "plt.title(\"Stroke\")\n",
    "plt.show()"
   ]
  },
  {
   "cell_type": "markdown",
   "metadata": {
    "id": "FPlXfwCmdava"
   },
   "source": [
    "It's evident the dataset is strongly unbalanced, and this can heavily effect the model's performance."
   ]
  },
  {
   "cell_type": "code",
   "execution_count": 26,
   "metadata": {
    "executionInfo": {
     "elapsed": 427,
     "status": "ok",
     "timestamp": 1737288397981,
     "user": {
      "displayName": "giacomo lucato",
      "userId": "15571964377657343543"
     },
     "user_tz": -60
    },
    "id": "4aEF7-BhHen7"
   },
   "outputs": [],
   "source": [
    "X = data.drop(columns=['stroke'], axis=1)\n",
    "y = data['stroke']"
   ]
  },
  {
   "cell_type": "code",
   "execution_count": 31,
   "metadata": {
    "executionInfo": {
     "elapsed": 13,
     "status": "ok",
     "timestamp": 1737288397982,
     "user": {
      "displayName": "giacomo lucato",
      "userId": "15571964377657343543"
     },
     "user_tz": -60
    },
    "id": "IDs9Xdr7hbBa"
   },
   "outputs": [],
   "source": [
    "scaler = StandardScaler()"
   ]
  },
  {
   "cell_type": "code",
   "execution_count": 29,
   "metadata": {
    "executionInfo": {
     "elapsed": 12,
     "status": "ok",
     "timestamp": 1737288397982,
     "user": {
      "displayName": "giacomo lucato",
      "userId": "15571964377657343543"
     },
     "user_tz": -60
    },
    "id": "T4ocBx9zhcFF"
   },
   "outputs": [],
   "source": [
    "# split the data, since the dataset is unbalanced\n",
    "X_train, X_test, y_train, y_test = train_test_split(X, y, test_size=0.20, random_state=42, stratify=y)"
   ]
  },
  {
   "cell_type": "code",
   "execution_count": 32,
   "metadata": {
    "executionInfo": {
     "elapsed": 10,
     "status": "ok",
     "timestamp": 1737288397982,
     "user": {
      "displayName": "giacomo lucato",
      "userId": "15571964377657343543"
     },
     "user_tz": -60
    },
    "id": "Umlt7IeJhkVZ"
   },
   "outputs": [],
   "source": [
    "# fit the scaler on the training data, then transform both train and test sets\n",
    "\n",
    "X_train_scaled = scaler.fit_transform(X_train)\n",
    "X_test_scaled = scaler.transform(X_test)"
   ]
  },
  {
   "cell_type": "markdown",
   "metadata": {
    "id": "9GHbZZmDL3zc"
   },
   "source": [
    "## Resampling"
   ]
  },
  {
   "cell_type": "code",
   "execution_count": 33,
   "metadata": {
    "executionInfo": {
     "elapsed": 10,
     "status": "ok",
     "timestamp": 1737288397982,
     "user": {
      "displayName": "giacomo lucato",
      "userId": "15571964377657343543"
     },
     "user_tz": -60
    },
    "id": "di_rl_QkLn-p"
   },
   "outputs": [],
   "source": [
    "from imblearn.over_sampling import SMOTE\n",
    "\n",
    "# initialize SMOTE with default settings\n",
    "smote = SMOTE(random_state=42)"
   ]
  },
  {
   "cell_type": "markdown",
   "metadata": {
    "id": "eJHw6c8rMVpV"
   },
   "source": [
    "SMOTE (Synthetic Minority Over-sampling Technique) is a method used to address the issue of class imbalance in datasets.\n",
    "SMOTE generates synthetc samples of the minority class by selecting a sample, finding its k-nearest neighbors and interpolating between the original sample and one of the neighbors, to create a new sample belonging to the minority class."
   ]
  },
  {
   "cell_type": "code",
   "execution_count": 34,
   "metadata": {
    "executionInfo": {
     "elapsed": 9,
     "status": "ok",
     "timestamp": 1737288397982,
     "user": {
      "displayName": "giacomo lucato",
      "userId": "15571964377657343543"
     },
     "user_tz": -60
    },
    "id": "a4VBc2xONaJ7"
   },
   "outputs": [],
   "source": [
    "# apply SMOTE to the training data\n",
    "X_train_smote, y_train_smote = smote.fit_resample(X_train_scaled, y_train)"
   ]
  },
  {
   "cell_type": "code",
   "execution_count": 150,
   "metadata": {
    "colab": {
     "base_uri": "https://localhost:8080/",
     "height": 576
    },
    "executionInfo": {
     "elapsed": 1098,
     "status": "ok",
     "timestamp": 1737288399071,
     "user": {
      "displayName": "giacomo lucato",
      "userId": "15571964377657343543"
     },
     "user_tz": -60
    },
    "id": "WtVrabpqOaMc",
    "outputId": "d34e6486-6a0e-4744-c3f9-177e2612f7a2"
   },
   "outputs": [
    {
     "name": "stderr",
     "output_type": "stream",
     "text": [
      "/tmp/ipykernel_122138/1178045680.py:6: FutureWarning: \n",
      "\n",
      "Passing `palette` without assigning `hue` is deprecated and will be removed in v0.14.0. Assign the `x` variable to `hue` and set `legend=False` for the same effect.\n",
      "\n",
      "  sns.barplot(x=class_counts.index, y=class_counts.values, palette='viridis')\n"
     ]
    },
    {
     "data": {
      "image/png": "[encoded data removed]",
      "text/plain": [
       "<Figure size 800x500 with 1 Axes>"
      ]
     },
     "metadata": {},
     "output_type": "display_data"
    }
   ],
   "source": [
    "# Count the instances of each class in the resampled training set\n",
    "class_counts = y_train_smote.value_counts()\n",
    "\n",
    "# Plot the class distribution\n",
    "plt.figure(figsize=(8, 5))\n",
    "sns.barplot(x=class_counts.index, y=class_counts.values, palette='viridis')\n",
    "\n",
    "# Add titles and labels\n",
    "plt.title('Class Distribution After SMOTE')\n",
    "plt.xlabel('Class')\n",
    "plt.ylabel('Frequency')\n",
    "\n",
    "# Show the plot\n",
    "plt.show()"
   ]
  },
  {
   "cell_type": "code",
   "execution_count": 132,
   "metadata": {
    "executionInfo": {
     "elapsed": 26,
     "status": "ok",
     "timestamp": 1737288399072,
     "user": {
      "displayName": "giacomo lucato",
      "userId": "15571964377657343543"
     },
     "user_tz": -60
    },
    "id": "ywIUsiBzTSma"
   },
   "outputs": [],
   "source": [
    "# apply SMOTE to un scaled dataframe for Random Forest Classifier\n",
    "X_train_smote_unscaled, y_train_smote_unscaled = smote.fit_resample(X_train, y_train)"
   ]
  },
  {
   "cell_type": "markdown",
   "metadata": {
    "id": "EKy_cXMvO1jj"
   },
   "source": [
    "# Model Selection"
   ]
  },
  {
   "cell_type": "markdown",
   "metadata": {
    "id": "3AQFVweoO6we"
   },
   "source": [
    "## Evaluation Function"
   ]
  },
  {
   "cell_type": "code",
   "execution_count": 133,
   "metadata": {
    "executionInfo": {
     "elapsed": 21,
     "status": "ok",
     "timestamp": 1737288399073,
     "user": {
      "displayName": "giacomo lucato",
      "userId": "15571964377657343543"
     },
     "user_tz": -60
    },
    "id": "cQxGmPqmO8kG"
   },
   "outputs": [],
   "source": [
    "def eval_model(y_pred, y_test):\n",
    "\n",
    "    print(\"Test_Set\")\n",
    "    print(confusion_matrix(y_test, y_pred))\n",
    "\n",
    "    scores = {\n",
    "        \"accuracy\" : accuracy_score(y_pred=y_pred, y_true=y_test),\n",
    "        \"precision\": precision_score(y_pred=y_pred, y_true=y_test),\n",
    "        \"recall\"   : recall_score(y_true=y_test, y_pred=y_pred),\n",
    "        \"f1\"       : f1_score(y_true=y_test, y_pred=y_pred)\n",
    "    }\n",
    "\n",
    "    return pd.DataFrame([scores])\n",
    "\n",
    "def eval_model_training_set(model, X_train, y_train):\n",
    "\n",
    "    # Evaluate model on training set\n",
    "    print(\"Training_Set\")\n",
    "\n",
    "    y_pred = model.predict(X_train)\n",
    "\n",
    "    print(confusion_matrix(y_train, y_pred))\n",
    "\n",
    "    scores = {\n",
    "        \"accuracy\" : accuracy_score(y_pred=y_pred, y_true=y_train),\n",
    "        \"precision\": precision_score(y_pred=y_pred, y_true=y_train),\n",
    "        \"recall\"   : recall_score(y_true=y_train, y_pred=y_pred),\n",
    "        \"f1\"       : f1_score(y_true=y_train, y_pred=y_pred)\n",
    "    }\n",
    "\n",
    "    return pd.DataFrame([scores])"
   ]
  },
  {
   "cell_type": "markdown",
   "metadata": {
    "id": "BBT_5ARwQ1I-"
   },
   "source": [
    "## Random Forest"
   ]
  },
  {
   "cell_type": "markdown",
   "metadata": {
    "id": "uIWJrxp6SQFN"
   },
   "source": [
    "### Random Forest (without SMOTE)"
   ]
  },
  {
   "cell_type": "code",
   "execution_count": 134,
   "metadata": {
    "colab": {
     "base_uri": "https://localhost:8080/"
    },
    "executionInfo": {
     "elapsed": 421,
     "status": "ok",
     "timestamp": 1737288399476,
     "user": {
      "displayName": "giacomo lucato",
      "userId": "15571964377657343543"
     },
     "user_tz": -60
    },
    "id": "FCVdACZBQ57T",
    "outputId": "322ef957-5704-4cd6-86a4-fc789c8158a9"
   },
   "outputs": [
    {
     "name": "stdout",
     "output_type": "stream",
     "text": [
      "Test_Set\n",
      "[[931  41]\n",
      " [ 39  11]]\n"
     ]
    },
    {
     "data": {
      "text/html": [
       "<div>\n",
       "<style scoped>\n",
       "    .dataframe tbody tr th:only-of-type {\n",
       "        vertical-align: middle;\n",
       "    }\n",
       "\n",
       "    .dataframe tbody tr th {\n",
       "        vertical-align: top;\n",
       "    }\n",
       "\n",
       "    .dataframe thead th {\n",
       "        text-align: right;\n",
       "    }\n",
       "</style>\n",
       "<table border=\"1\" class=\"dataframe\">\n",
       "  <thead>\n",
       "    <tr style=\"text-align: right;\">\n",
       "      <th></th>\n",
       "      <th>accuracy</th>\n",
       "      <th>precision</th>\n",
       "      <th>recall</th>\n",
       "      <th>f1</th>\n",
       "    </tr>\n",
       "  </thead>\n",
       "  <tbody>\n",
       "    <tr>\n",
       "      <th>0</th>\n",
       "      <td>0.921722</td>\n",
       "      <td>0.211538</td>\n",
       "      <td>0.22</td>\n",
       "      <td>0.215686</td>\n",
       "    </tr>\n",
       "  </tbody>\n",
       "</table>\n",
       "</div>"
      ],
      "text/plain": [
       "   accuracy  precision  recall        f1\n",
       "0  0.921722   0.211538    0.22  0.215686"
      ]
     },
     "execution_count": 134,
     "metadata": {},
     "output_type": "execute_result"
    }
   ],
   "source": [
    "# Initilize the model\n",
    "rf_model = RandomForestClassifier(n_estimators=100, max_depth=10, random_state=42, class_weight='balanced')\n",
    "\n",
    "# Fit the model to the training data, without resampling\n",
    "rf_model.fit(X_train, y_train)\n",
    "\n",
    "# Prediction on test set\n",
    "y_pred= rf_model.predict(X_test)\n",
    "\n",
    "# Evaluate model on the test set\n",
    "eval_model(y_pred, y_test)"
   ]
  },
  {
   "cell_type": "code",
   "execution_count": 135,
   "metadata": {},
   "outputs": [
    {
     "name": "stdout",
     "output_type": "stream",
     "text": [
      "Training_Set\n",
      "[[3758  131]\n",
      " [   9  190]]\n"
     ]
    },
    {
     "data": {
      "text/html": [
       "<div>\n",
       "<style scoped>\n",
       "    .dataframe tbody tr th:only-of-type {\n",
       "        vertical-align: middle;\n",
       "    }\n",
       "\n",
       "    .dataframe tbody tr th {\n",
       "        vertical-align: top;\n",
       "    }\n",
       "\n",
       "    .dataframe thead th {\n",
       "        text-align: right;\n",
       "    }\n",
       "</style>\n",
       "<table border=\"1\" class=\"dataframe\">\n",
       "  <thead>\n",
       "    <tr style=\"text-align: right;\">\n",
       "      <th></th>\n",
       "      <th>accuracy</th>\n",
       "      <th>precision</th>\n",
       "      <th>recall</th>\n",
       "      <th>f1</th>\n",
       "    </tr>\n",
       "  </thead>\n",
       "  <tbody>\n",
       "    <tr>\n",
       "      <th>0</th>\n",
       "      <td>0.965753</td>\n",
       "      <td>0.5919</td>\n",
       "      <td>0.954774</td>\n",
       "      <td>0.730769</td>\n",
       "    </tr>\n",
       "  </tbody>\n",
       "</table>\n",
       "</div>"
      ],
      "text/plain": [
       "   accuracy  precision    recall        f1\n",
       "0  0.965753     0.5919  0.954774  0.730769"
      ]
     },
     "execution_count": 135,
     "metadata": {},
     "output_type": "execute_result"
    }
   ],
   "source": [
    "# Evaluate the model on training set\n",
    "eval_model_training_set(rf_model, X_train, y_train)"
   ]
  },
  {
   "cell_type": "markdown",
   "metadata": {
    "id": "LwrB_68hRD3m"
   },
   "source": [
    "The Random Forest model demonstrates very good performance on the training set but performs poorly on the test set. This discrepancy is likely due to severe overfitting, which can be attributed to the class imbalance in the dataset."
   ]
  },
  {
   "cell_type": "markdown",
   "metadata": {
    "id": "c2YoNuwlSYSv"
   },
   "source": [
    "### Random Forest (with SMOTE)"
   ]
  },
  {
   "cell_type": "code",
   "execution_count": 136,
   "metadata": {
    "colab": {
     "base_uri": "https://localhost:8080/"
    },
    "executionInfo": {
     "elapsed": 20,
     "status": "ok",
     "timestamp": 1737288399477,
     "user": {
      "displayName": "giacomo lucato",
      "userId": "15571964377657343543"
     },
     "user_tz": -60
    },
    "id": "sQHYg7r1ScB_",
    "outputId": "2b91ff4c-f281-41e7-95f8-eb4fee154e24"
   },
   "outputs": [
    {
     "name": "stdout",
     "output_type": "stream",
     "text": [
      "Test_Set\n",
      "[[890  82]\n",
      " [ 41   9]]\n"
     ]
    },
    {
     "data": {
      "text/html": [
       "<div>\n",
       "<style scoped>\n",
       "    .dataframe tbody tr th:only-of-type {\n",
       "        vertical-align: middle;\n",
       "    }\n",
       "\n",
       "    .dataframe tbody tr th {\n",
       "        vertical-align: top;\n",
       "    }\n",
       "\n",
       "    .dataframe thead th {\n",
       "        text-align: right;\n",
       "    }\n",
       "</style>\n",
       "<table border=\"1\" class=\"dataframe\">\n",
       "  <thead>\n",
       "    <tr style=\"text-align: right;\">\n",
       "      <th></th>\n",
       "      <th>accuracy</th>\n",
       "      <th>precision</th>\n",
       "      <th>recall</th>\n",
       "      <th>f1</th>\n",
       "    </tr>\n",
       "  </thead>\n",
       "  <tbody>\n",
       "    <tr>\n",
       "      <th>0</th>\n",
       "      <td>0.879648</td>\n",
       "      <td>0.098901</td>\n",
       "      <td>0.18</td>\n",
       "      <td>0.12766</td>\n",
       "    </tr>\n",
       "  </tbody>\n",
       "</table>\n",
       "</div>"
      ],
      "text/plain": [
       "   accuracy  precision  recall       f1\n",
       "0  0.879648   0.098901    0.18  0.12766"
      ]
     },
     "execution_count": 136,
     "metadata": {},
     "output_type": "execute_result"
    }
   ],
   "source": [
    "# Initialize model\n",
    "rf_model_smote = RandomForestClassifier(n_estimators=100, max_depth=10, random_state=42)\n",
    "\n",
    "# Fit the model to resampled training data\n",
    "rf_model_smote.fit(X_train_smote_unscaled, y_train_smote_unscaled)\n",
    "\n",
    "# Predictions on test set\n",
    "y_pred = rf_model_smote.predict(X_test)\n",
    "\n",
    "# Evaluation of test set\n",
    "eval_model(y_pred, y_test)"
   ]
  },
  {
   "cell_type": "code",
   "execution_count": 137,
   "metadata": {},
   "outputs": [
    {
     "name": "stdout",
     "output_type": "stream",
     "text": [
      "Training_Set\n",
      "[[3602  287]\n",
      " [  36  163]]\n"
     ]
    },
    {
     "data": {
      "text/html": [
       "<div>\n",
       "<style scoped>\n",
       "    .dataframe tbody tr th:only-of-type {\n",
       "        vertical-align: middle;\n",
       "    }\n",
       "\n",
       "    .dataframe tbody tr th {\n",
       "        vertical-align: top;\n",
       "    }\n",
       "\n",
       "    .dataframe thead th {\n",
       "        text-align: right;\n",
       "    }\n",
       "</style>\n",
       "<table border=\"1\" class=\"dataframe\">\n",
       "  <thead>\n",
       "    <tr style=\"text-align: right;\">\n",
       "      <th></th>\n",
       "      <th>accuracy</th>\n",
       "      <th>precision</th>\n",
       "      <th>recall</th>\n",
       "      <th>f1</th>\n",
       "    </tr>\n",
       "  </thead>\n",
       "  <tbody>\n",
       "    <tr>\n",
       "      <th>0</th>\n",
       "      <td>0.920988</td>\n",
       "      <td>0.362222</td>\n",
       "      <td>0.819095</td>\n",
       "      <td>0.502311</td>\n",
       "    </tr>\n",
       "  </tbody>\n",
       "</table>\n",
       "</div>"
      ],
      "text/plain": [
       "   accuracy  precision    recall        f1\n",
       "0  0.920988   0.362222  0.819095  0.502311"
      ]
     },
     "execution_count": 137,
     "metadata": {},
     "output_type": "execute_result"
    }
   ],
   "source": [
    "# Evaluation on training set\n",
    "eval_model_training_set(rf_model_smote, X_train, y_train)"
   ]
  },
  {
   "cell_type": "markdown",
   "metadata": {
    "id": "BtBkN_QRUGKP"
   },
   "source": [
    "Despite resampling, the model continues to suffer from overfitting, showing poor performance on the test set. To address this, we will attempt parameter tuning to improve generalization and reduce overfitting."
   ]
  },
  {
   "cell_type": "markdown",
   "metadata": {
    "id": "H7V4TBKQVQEu"
   },
   "source": [
    "### Random Forest Tuning (without SMOTE)"
   ]
  },
  {
   "cell_type": "code",
   "execution_count": 155,
   "metadata": {
    "colab": {
     "base_uri": "https://localhost:8080/"
    },
    "executionInfo": {
     "elapsed": 54913,
     "status": "ok",
     "timestamp": 1737288454378,
     "user": {
      "displayName": "giacomo lucato",
      "userId": "15571964377657343543"
     },
     "user_tz": -60
    },
    "id": "WZWbwA3XWgfo",
    "outputId": "e1a9eee3-5f1e-4a42-abb1-6700a95340a6"
   },
   "outputs": [
    {
     "name": "stdout",
     "output_type": "stream",
     "text": [
      "Fitting 5 folds for each of 200 candidates, totalling 1000 fits\n",
      "Best Parameters: {'max_depth': 6, 'min_samples_split': 6, 'n_estimators': 50}\n",
      "Test_Set\n",
      "[[749 223]\n",
      " [ 12  38]]\n"
     ]
    },
    {
     "data": {
      "text/html": [
       "<div>\n",
       "<style scoped>\n",
       "    .dataframe tbody tr th:only-of-type {\n",
       "        vertical-align: middle;\n",
       "    }\n",
       "\n",
       "    .dataframe tbody tr th {\n",
       "        vertical-align: top;\n",
       "    }\n",
       "\n",
       "    .dataframe thead th {\n",
       "        text-align: right;\n",
       "    }\n",
       "</style>\n",
       "<table border=\"1\" class=\"dataframe\">\n",
       "  <thead>\n",
       "    <tr style=\"text-align: right;\">\n",
       "      <th></th>\n",
       "      <th>accuracy</th>\n",
       "      <th>precision</th>\n",
       "      <th>recall</th>\n",
       "      <th>f1</th>\n",
       "    </tr>\n",
       "  </thead>\n",
       "  <tbody>\n",
       "    <tr>\n",
       "      <th>0</th>\n",
       "      <td>0.770059</td>\n",
       "      <td>0.145594</td>\n",
       "      <td>0.76</td>\n",
       "      <td>0.244373</td>\n",
       "    </tr>\n",
       "  </tbody>\n",
       "</table>\n",
       "</div>"
      ],
      "text/plain": [
       "   accuracy  precision  recall        f1\n",
       "0  0.770059   0.145594    0.76  0.244373"
      ]
     },
     "execution_count": 155,
     "metadata": {},
     "output_type": "execute_result"
    }
   ],
   "source": [
    "from sklearn.model_selection import GridSearchCV\n",
    "\n",
    "# Initialize RandomForestClassifier with balanced class weight\n",
    "rf_tune = RandomForestClassifier(random_state=42, class_weight='balanced')\n",
    "\n",
    "# Parameter grid\n",
    "param_grid = {\n",
    "    'n_estimators': [50, 100, 150, 200, 250],\n",
    "    'max_depth': [1, 2, 3, 4, 5, 6, 7, 8],\n",
    "    'min_samples_split': [2, 3, 4, 5, 6]\n",
    "}\n",
    "\n",
    "# Set up GridSearchCV\n",
    "grid_rf = GridSearchCV(estimator=rf_tune, param_grid=param_grid, cv=5, scoring='f1', n_jobs=-1, verbose=1)\n",
    "\n",
    "# Fit the model\n",
    "grid_rf.fit(X_train, y_train)\n",
    "\n",
    "# Show best parameters\n",
    "print(f\"Best Parameters: {grid_rf.best_params_}\")\n",
    "\n",
    "# Evaluate on the test set\n",
    "y_pred = grid_rf.predict(X_test)  \n",
    "\n",
    "# Evaluate the model performance\n",
    "eval_model(y_pred, y_test)"
   ]
  },
  {
   "cell_type": "markdown",
   "metadata": {
    "id": "P5ibuTQUcs-V"
   },
   "source": [
    "### Random Forest Tuning (with SMOTE)"
   ]
  },
  {
   "cell_type": "code",
   "execution_count": null,
   "metadata": {
    "colab": {
     "base_uri": "https://localhost:8080/"
    },
    "executionInfo": {
     "elapsed": 68328,
     "status": "ok",
     "timestamp": 1737288522688,
     "user": {
      "displayName": "giacomo lucato",
      "userId": "15571964377657343543"
     },
     "user_tz": -60
    },
    "id": "6F1nQgugc0Hy",
    "outputId": "6dc926ff-6b44-4bc2-cded-c4e212dc938d"
   },
   "outputs": [
    {
     "name": "stdout",
     "output_type": "stream",
     "text": [
      "Fitting 5 folds for each of 27 candidates, totalling 135 fits\n",
      "Best Parameters: {'max_depth': 6, 'min_samples_split': 3, 'n_estimators': 150}\n",
      "Test_Set\n",
      "[[804 168]\n",
      " [ 28  22]]\n"
     ]
    },
    {
     "data": {
      "text/html": [
       "<div>\n",
       "<style scoped>\n",
       "    .dataframe tbody tr th:only-of-type {\n",
       "        vertical-align: middle;\n",
       "    }\n",
       "\n",
       "    .dataframe tbody tr th {\n",
       "        vertical-align: top;\n",
       "    }\n",
       "\n",
       "    .dataframe thead th {\n",
       "        text-align: right;\n",
       "    }\n",
       "</style>\n",
       "<table border=\"1\" class=\"dataframe\">\n",
       "  <thead>\n",
       "    <tr style=\"text-align: right;\">\n",
       "      <th></th>\n",
       "      <th>accuracy</th>\n",
       "      <th>precision</th>\n",
       "      <th>recall</th>\n",
       "      <th>f1</th>\n",
       "    </tr>\n",
       "  </thead>\n",
       "  <tbody>\n",
       "    <tr>\n",
       "      <th>0</th>\n",
       "      <td>0.808219</td>\n",
       "      <td>0.115789</td>\n",
       "      <td>0.44</td>\n",
       "      <td>0.183333</td>\n",
       "    </tr>\n",
       "  </tbody>\n",
       "</table>\n",
       "</div>"
      ],
      "text/plain": [
       "   accuracy  precision  recall        f1\n",
       "0  0.808219   0.115789    0.44  0.183333"
      ]
     },
     "execution_count": 52,
     "metadata": {},
     "output_type": "execute_result"
    }
   ],
   "source": [
    "rf_tune = RandomForestClassifier(random_state=42, class_weight='balanced')\n",
    "\n",
    "# parameter grid\n",
    "param_grid_smote = { 'n_estimators': [150,200, 250],\n",
    "'max_depth': [4, 5,6],\n",
    "'min_samples_split': [2,3,4]\n",
    "}\n",
    "\n",
    "grid_rf_smote = GridSearchCV(estimator=rf_tune, param_grid=param_grid_smote, cv=5, scoring='f1', n_jobs=-1, verbose=1)\n",
    "\n",
    "# fit the model\n",
    "grid_rf_smote.fit(X_train_smote_unscaled, y_train_smote_unscaled)\n",
    "\n",
    "# show best parameters\n",
    "print(f\"Best Parameters: {grid_rf_smote.best_params_}\")\n",
    "\n",
    "y_pred = grid_rf_smote.predict(X_test)\n",
    "\n",
    "eval_model(y_pred, y_test)"
   ]
  },
  {
   "cell_type": "markdown",
   "metadata": {
    "id": "Fsv_gttMdeXX"
   },
   "source": [
    "There's no much difference between performance on original dataset and on resampled dataset.\n",
    "\n",
    "We can see that using a high number of estimators combined with a low depth it is possible to reduce the risk of overfitting, making the model able to generalize on unseen data."
   ]
  },
  {
   "cell_type": "markdown",
   "metadata": {
    "id": "2Znug1fyrX2E"
   },
   "source": [
    "## K-Nearest Neighbors"
   ]
  },
  {
   "cell_type": "markdown",
   "metadata": {
    "id": "_4Cln--8sWNm"
   },
   "source": [
    "### KNN (without SMOTE)"
   ]
  },
  {
   "cell_type": "code",
   "execution_count": null,
   "metadata": {
    "colab": {
     "base_uri": "https://localhost:8080/"
    },
    "executionInfo": {
     "elapsed": 1335,
     "status": "ok",
     "timestamp": 1737288524008,
     "user": {
      "displayName": "giacomo lucato",
      "userId": "15571964377657343543"
     },
     "user_tz": -60
    },
    "id": "bzdHkWfTryUD",
    "outputId": "c7573837-4e79-4675-8584-4e7a704d803f"
   },
   "outputs": [
    {
     "name": "stdout",
     "output_type": "stream",
     "text": [
      "Test_Set\n",
      "[[970   2]\n",
      " [ 49   1]]\n"
     ]
    },
    {
     "data": {
      "text/html": [
       "<div>\n",
       "<style scoped>\n",
       "    .dataframe tbody tr th:only-of-type {\n",
       "        vertical-align: middle;\n",
       "    }\n",
       "\n",
       "    .dataframe tbody tr th {\n",
       "        vertical-align: top;\n",
       "    }\n",
       "\n",
       "    .dataframe thead th {\n",
       "        text-align: right;\n",
       "    }\n",
       "</style>\n",
       "<table border=\"1\" class=\"dataframe\">\n",
       "  <thead>\n",
       "    <tr style=\"text-align: right;\">\n",
       "      <th></th>\n",
       "      <th>accuracy</th>\n",
       "      <th>precision</th>\n",
       "      <th>recall</th>\n",
       "      <th>f1</th>\n",
       "    </tr>\n",
       "  </thead>\n",
       "  <tbody>\n",
       "    <tr>\n",
       "      <th>0</th>\n",
       "      <td>0.950098</td>\n",
       "      <td>0.333333</td>\n",
       "      <td>0.02</td>\n",
       "      <td>0.037736</td>\n",
       "    </tr>\n",
       "  </tbody>\n",
       "</table>\n",
       "</div>"
      ],
      "text/plain": [
       "   accuracy  precision  recall        f1\n",
       "0  0.950098   0.333333    0.02  0.037736"
      ]
     },
     "execution_count": 53,
     "metadata": {},
     "output_type": "execute_result"
    }
   ],
   "source": [
    "# Initialize model\n",
    "knn = KNeighborsClassifier(n_neighbors=5)\n",
    "\n",
    "# Fit the model to the training data, without resampling\n",
    "knn.fit(X_train_scaled, y_train)\n",
    "\n",
    "#  Predictions\n",
    "y_pred= knn.predict(X_test_scaled)\n",
    "\n",
    "# Print evaluation metrics on test set\n",
    "eval_model(y_pred, y_test)"
   ]
  },
  {
   "cell_type": "code",
   "execution_count": 68,
   "metadata": {},
   "outputs": [
    {
     "name": "stdout",
     "output_type": "stream",
     "text": [
      "Training_Set\n",
      "[[3881    8]\n",
      " [ 191    8]]\n"
     ]
    },
    {
     "data": {
      "text/html": [
       "<div>\n",
       "<style scoped>\n",
       "    .dataframe tbody tr th:only-of-type {\n",
       "        vertical-align: middle;\n",
       "    }\n",
       "\n",
       "    .dataframe tbody tr th {\n",
       "        vertical-align: top;\n",
       "    }\n",
       "\n",
       "    .dataframe thead th {\n",
       "        text-align: right;\n",
       "    }\n",
       "</style>\n",
       "<table border=\"1\" class=\"dataframe\">\n",
       "  <thead>\n",
       "    <tr style=\"text-align: right;\">\n",
       "      <th></th>\n",
       "      <th>accuracy</th>\n",
       "      <th>precision</th>\n",
       "      <th>recall</th>\n",
       "      <th>f1</th>\n",
       "    </tr>\n",
       "  </thead>\n",
       "  <tbody>\n",
       "    <tr>\n",
       "      <th>0</th>\n",
       "      <td>0.951321</td>\n",
       "      <td>0.5</td>\n",
       "      <td>0.040201</td>\n",
       "      <td>0.074419</td>\n",
       "    </tr>\n",
       "  </tbody>\n",
       "</table>\n",
       "</div>"
      ],
      "text/plain": [
       "   accuracy  precision    recall        f1\n",
       "0  0.951321        0.5  0.040201  0.074419"
      ]
     },
     "execution_count": 68,
     "metadata": {},
     "output_type": "execute_result"
    }
   ],
   "source": [
    "# Evaluation on training set\n",
    "eval_model_training_set(knn, X_train_scaled, y_train)"
   ]
  },
  {
   "cell_type": "markdown",
   "metadata": {
    "id": "8GeAbzLnvzGp"
   },
   "source": [
    "### KNN (with SMOTE)"
   ]
  },
  {
   "cell_type": "code",
   "execution_count": null,
   "metadata": {
    "colab": {
     "base_uri": "https://localhost:8080/"
    },
    "executionInfo": {
     "elapsed": 1749,
     "status": "ok",
     "timestamp": 1737288525753,
     "user": {
      "displayName": "giacomo lucato",
      "userId": "15571964377657343543"
     },
     "user_tz": -60
    },
    "id": "z3MjEg6Hv4gr",
    "outputId": "13696708-4932-4e89-e887-a17e34fed419"
   },
   "outputs": [
    {
     "name": "stdout",
     "output_type": "stream",
     "text": [
      "Test_Set\n",
      "[[812 160]\n",
      " [ 31  19]]\n"
     ]
    },
    {
     "data": {
      "text/html": [
       "<div>\n",
       "<style scoped>\n",
       "    .dataframe tbody tr th:only-of-type {\n",
       "        vertical-align: middle;\n",
       "    }\n",
       "\n",
       "    .dataframe tbody tr th {\n",
       "        vertical-align: top;\n",
       "    }\n",
       "\n",
       "    .dataframe thead th {\n",
       "        text-align: right;\n",
       "    }\n",
       "</style>\n",
       "<table border=\"1\" class=\"dataframe\">\n",
       "  <thead>\n",
       "    <tr style=\"text-align: right;\">\n",
       "      <th></th>\n",
       "      <th>accuracy</th>\n",
       "      <th>precision</th>\n",
       "      <th>recall</th>\n",
       "      <th>f1</th>\n",
       "    </tr>\n",
       "  </thead>\n",
       "  <tbody>\n",
       "    <tr>\n",
       "      <th>0</th>\n",
       "      <td>0.813112</td>\n",
       "      <td>0.106145</td>\n",
       "      <td>0.38</td>\n",
       "      <td>0.165939</td>\n",
       "    </tr>\n",
       "  </tbody>\n",
       "</table>\n",
       "</div>"
      ],
      "text/plain": [
       "   accuracy  precision  recall        f1\n",
       "0  0.813112   0.106145    0.38  0.165939"
      ]
     },
     "execution_count": 54,
     "metadata": {},
     "output_type": "execute_result"
    }
   ],
   "source": [
    "# Initialize model \n",
    "knn_smote = KNeighborsClassifier(n_neighbors=5)\n",
    "\n",
    "# Fit the model to the training data \n",
    "knn_smote.fit(X_train_smote, y_train_smote)\n",
    "\n",
    "# Predictions\n",
    "y_pred = knn_smote.predict(X_test_scaled)\n",
    "\n",
    "# Print evaluation metrics\n",
    "eval_model(y_pred, y_test)"
   ]
  },
  {
   "cell_type": "markdown",
   "metadata": {
    "id": "Gbt9e-ZX1Xmj"
   },
   "source": [
    "### KNN Tuning (without SMOTE)\n"
   ]
  },
  {
   "cell_type": "code",
   "execution_count": null,
   "metadata": {
    "colab": {
     "base_uri": "https://localhost:8080/"
    },
    "executionInfo": {
     "elapsed": 10961,
     "status": "ok",
     "timestamp": 1737288536707,
     "user": {
      "displayName": "giacomo lucato",
      "userId": "15571964377657343543"
     },
     "user_tz": -60
    },
    "id": "Uhh7Wiii1btS",
    "outputId": "7b2fd23c-39df-4044-a165-114d3000d65d"
   },
   "outputs": [
    {
     "name": "stdout",
     "output_type": "stream",
     "text": [
      "Best Parameters: {'metric': 'manhattan', 'n_neighbors': 3, 'weights': 'distance'}\n",
      "Test_Set\n",
      "[[957  15]\n",
      " [ 46   4]]\n"
     ]
    },
    {
     "data": {
      "text/html": [
       "<div>\n",
       "<style scoped>\n",
       "    .dataframe tbody tr th:only-of-type {\n",
       "        vertical-align: middle;\n",
       "    }\n",
       "\n",
       "    .dataframe tbody tr th {\n",
       "        vertical-align: top;\n",
       "    }\n",
       "\n",
       "    .dataframe thead th {\n",
       "        text-align: right;\n",
       "    }\n",
       "</style>\n",
       "<table border=\"1\" class=\"dataframe\">\n",
       "  <thead>\n",
       "    <tr style=\"text-align: right;\">\n",
       "      <th></th>\n",
       "      <th>accuracy</th>\n",
       "      <th>precision</th>\n",
       "      <th>recall</th>\n",
       "      <th>f1</th>\n",
       "    </tr>\n",
       "  </thead>\n",
       "  <tbody>\n",
       "    <tr>\n",
       "      <th>0</th>\n",
       "      <td>0.940313</td>\n",
       "      <td>0.210526</td>\n",
       "      <td>0.08</td>\n",
       "      <td>0.115942</td>\n",
       "    </tr>\n",
       "  </tbody>\n",
       "</table>\n",
       "</div>"
      ],
      "text/plain": [
       "   accuracy  precision  recall        f1\n",
       "0  0.940313   0.210526    0.08  0.115942"
      ]
     },
     "execution_count": 55,
     "metadata": {},
     "output_type": "execute_result"
    }
   ],
   "source": [
    "from sklearn.model_selection import GridSearchCV\n",
    "from sklearn.neighbors import KNeighborsClassifier\n",
    "\n",
    "# Create a KNN classifier\n",
    "grid_knn = KNeighborsClassifier()\n",
    "\n",
    "# Define the parameter grid\n",
    "param_grid = {\n",
    "    'n_neighbors': [3, 5, 7, 10],\n",
    "    'weights': ['uniform', 'distance'],\n",
    "    'metric': ['minkowski', 'euclidean', 'manhattan']\n",
    "}\n",
    "\n",
    "# Perform GridSearchCV\n",
    "grid_search = GridSearchCV(grid_knn, param_grid, cv=5, scoring='f1', n_jobs=-1)\n",
    "\n",
    "# Fit the grid search\n",
    "grid_search.fit(X_train_scaled, y_train)\n",
    "\n",
    "# Get the best parameters\n",
    "print(\"Best Parameters:\", grid_search.best_params_)\n",
    "\n",
    "y_pred = grid_search.predict(X_test_scaled)\n",
    "\n",
    "eval_model(y_pred, y_test)"
   ]
  },
  {
   "cell_type": "code",
   "execution_count": 69,
   "metadata": {},
   "outputs": [
    {
     "name": "stdout",
     "output_type": "stream",
     "text": [
      "Training_Set\n",
      "[[2796 1093]\n",
      " [  34  165]]\n"
     ]
    },
    {
     "data": {
      "text/html": [
       "<div>\n",
       "<style scoped>\n",
       "    .dataframe tbody tr th:only-of-type {\n",
       "        vertical-align: middle;\n",
       "    }\n",
       "\n",
       "    .dataframe tbody tr th {\n",
       "        vertical-align: top;\n",
       "    }\n",
       "\n",
       "    .dataframe thead th {\n",
       "        text-align: right;\n",
       "    }\n",
       "</style>\n",
       "<table border=\"1\" class=\"dataframe\">\n",
       "  <thead>\n",
       "    <tr style=\"text-align: right;\">\n",
       "      <th></th>\n",
       "      <th>accuracy</th>\n",
       "      <th>precision</th>\n",
       "      <th>recall</th>\n",
       "      <th>f1</th>\n",
       "    </tr>\n",
       "  </thead>\n",
       "  <tbody>\n",
       "    <tr>\n",
       "      <th>0</th>\n",
       "      <td>0.724315</td>\n",
       "      <td>0.131161</td>\n",
       "      <td>0.829146</td>\n",
       "      <td>0.226493</td>\n",
       "    </tr>\n",
       "  </tbody>\n",
       "</table>\n",
       "</div>"
      ],
      "text/plain": [
       "   accuracy  precision    recall        f1\n",
       "0  0.724315   0.131161  0.829146  0.226493"
      ]
     },
     "execution_count": 69,
     "metadata": {},
     "output_type": "execute_result"
    }
   ],
   "source": [
    "# Evaluation on training set\n",
    "eval_model_training_set(grid_search.best_estimator_, X_train_scaled, y_train)"
   ]
  },
  {
   "cell_type": "markdown",
   "metadata": {
    "id": "hmFAwwsv2b8S"
   },
   "source": [
    "### KNN Tuning (with SMOTE)"
   ]
  },
  {
   "cell_type": "code",
   "execution_count": 70,
   "metadata": {
    "colab": {
     "base_uri": "https://localhost:8080/"
    },
    "executionInfo": {
     "elapsed": 42927,
     "status": "ok",
     "timestamp": 1737288579613,
     "user": {
      "displayName": "giacomo lucato",
      "userId": "15571964377657343543"
     },
     "user_tz": -60
    },
    "id": "ETDvBhWs2f4i",
    "outputId": "e8c7dc3a-171b-465d-ff3f-2acc8aba63c3"
   },
   "outputs": [
    {
     "name": "stdout",
     "output_type": "stream",
     "text": [
      "Best Parameters: {'metric': 'manhattan', 'n_neighbors': 3, 'weights': 'distance'}\n",
      "Test_Set\n",
      "[[868 104]\n",
      " [ 40  10]]\n"
     ]
    },
    {
     "data": {
      "text/html": [
       "<div>\n",
       "<style scoped>\n",
       "    .dataframe tbody tr th:only-of-type {\n",
       "        vertical-align: middle;\n",
       "    }\n",
       "\n",
       "    .dataframe tbody tr th {\n",
       "        vertical-align: top;\n",
       "    }\n",
       "\n",
       "    .dataframe thead th {\n",
       "        text-align: right;\n",
       "    }\n",
       "</style>\n",
       "<table border=\"1\" class=\"dataframe\">\n",
       "  <thead>\n",
       "    <tr style=\"text-align: right;\">\n",
       "      <th></th>\n",
       "      <th>accuracy</th>\n",
       "      <th>precision</th>\n",
       "      <th>recall</th>\n",
       "      <th>f1</th>\n",
       "    </tr>\n",
       "  </thead>\n",
       "  <tbody>\n",
       "    <tr>\n",
       "      <th>0</th>\n",
       "      <td>0.8591</td>\n",
       "      <td>0.087719</td>\n",
       "      <td>0.2</td>\n",
       "      <td>0.121951</td>\n",
       "    </tr>\n",
       "  </tbody>\n",
       "</table>\n",
       "</div>"
      ],
      "text/plain": [
       "   accuracy  precision  recall        f1\n",
       "0    0.8591   0.087719     0.2  0.121951"
      ]
     },
     "execution_count": 70,
     "metadata": {},
     "output_type": "execute_result"
    }
   ],
   "source": [
    "# Create a KNN classifier\n",
    "grid_knn_smote = KNeighborsClassifier()\n",
    "\n",
    "# Define the parameter grid\n",
    "param_grid = {\n",
    "    'n_neighbors': [3, 5, 7, 10, 25, 35],\n",
    "    'weights': ['uniform', 'distance'],\n",
    "    'metric': ['minkowski', 'euclidean', 'manhattan']\n",
    "}\n",
    "\n",
    "# Perform GridSearchCV\n",
    "grid_search = GridSearchCV(grid_knn_smote, param_grid, cv=5, scoring='f1', n_jobs=-1)\n",
    "\n",
    "# Fit the grid search\n",
    "grid_search.fit(X_train_smote, y_train_smote)\n",
    "\n",
    "# Get the best parameters\n",
    "print(\"Best Parameters:\", grid_search.best_params_)\n",
    "\n",
    "y_pred = grid_search.predict(X_test_scaled)\n",
    "\n",
    "eval_model(y_pred, y_test)"
   ]
  },
  {
   "cell_type": "code",
   "execution_count": 71,
   "metadata": {},
   "outputs": [
    {
     "name": "stdout",
     "output_type": "stream",
     "text": [
      "Training_Set\n",
      "[[3889    0]\n",
      " [   0  199]]\n"
     ]
    },
    {
     "data": {
      "text/html": [
       "<div>\n",
       "<style scoped>\n",
       "    .dataframe tbody tr th:only-of-type {\n",
       "        vertical-align: middle;\n",
       "    }\n",
       "\n",
       "    .dataframe tbody tr th {\n",
       "        vertical-align: top;\n",
       "    }\n",
       "\n",
       "    .dataframe thead th {\n",
       "        text-align: right;\n",
       "    }\n",
       "</style>\n",
       "<table border=\"1\" class=\"dataframe\">\n",
       "  <thead>\n",
       "    <tr style=\"text-align: right;\">\n",
       "      <th></th>\n",
       "      <th>accuracy</th>\n",
       "      <th>precision</th>\n",
       "      <th>recall</th>\n",
       "      <th>f1</th>\n",
       "    </tr>\n",
       "  </thead>\n",
       "  <tbody>\n",
       "    <tr>\n",
       "      <th>0</th>\n",
       "      <td>1.0</td>\n",
       "      <td>1.0</td>\n",
       "      <td>1.0</td>\n",
       "      <td>1.0</td>\n",
       "    </tr>\n",
       "  </tbody>\n",
       "</table>\n",
       "</div>"
      ],
      "text/plain": [
       "   accuracy  precision  recall   f1\n",
       "0       1.0        1.0     1.0  1.0"
      ]
     },
     "execution_count": 71,
     "metadata": {},
     "output_type": "execute_result"
    }
   ],
   "source": [
    "# Evaluation on training set\n",
    "eval_model_training_set(grid_search.best_estimator_, X_train_scaled, y_train)"
   ]
  },
  {
   "cell_type": "markdown",
   "metadata": {
    "id": "-VazUXQ_4GaY"
   },
   "source": [
    "Thanks to data resampling and hyperparameters tuning KNN achieves perfect performance on the training set. However it shows poor performance on test set, demonstrating itself unable to generalize well on new data."
   ]
  },
  {
   "cell_type": "markdown",
   "metadata": {
    "id": "2Pdm4JXE0ja3"
   },
   "source": [
    "## SVM"
   ]
  },
  {
   "cell_type": "markdown",
   "metadata": {
    "id": "5Nw8dljz0nwd"
   },
   "source": [
    "### SVM (without SMOTE)"
   ]
  },
  {
   "cell_type": "code",
   "execution_count": null,
   "metadata": {
    "colab": {
     "base_uri": "https://localhost:8080/"
    },
    "executionInfo": {
     "elapsed": 2686,
     "status": "ok",
     "timestamp": 1737288582283,
     "user": {
      "displayName": "giacomo lucato",
      "userId": "15571964377657343543"
     },
     "user_tz": -60
    },
    "id": "zz8SjVtf0q9A",
    "outputId": "18c8b576-6ac1-4d45-ebbd-f98f6a4f3f4e"
   },
   "outputs": [
    {
     "name": "stdout",
     "output_type": "stream",
     "text": [
      "Test_Set\n",
      "[[705 267]\n",
      " [  9  41]]\n"
     ]
    },
    {
     "data": {
      "text/html": [
       "<div>\n",
       "<style scoped>\n",
       "    .dataframe tbody tr th:only-of-type {\n",
       "        vertical-align: middle;\n",
       "    }\n",
       "\n",
       "    .dataframe tbody tr th {\n",
       "        vertical-align: top;\n",
       "    }\n",
       "\n",
       "    .dataframe thead th {\n",
       "        text-align: right;\n",
       "    }\n",
       "</style>\n",
       "<table border=\"1\" class=\"dataframe\">\n",
       "  <thead>\n",
       "    <tr style=\"text-align: right;\">\n",
       "      <th></th>\n",
       "      <th>accuracy</th>\n",
       "      <th>precision</th>\n",
       "      <th>recall</th>\n",
       "      <th>f1</th>\n",
       "    </tr>\n",
       "  </thead>\n",
       "  <tbody>\n",
       "    <tr>\n",
       "      <th>0</th>\n",
       "      <td>0.729941</td>\n",
       "      <td>0.133117</td>\n",
       "      <td>0.82</td>\n",
       "      <td>0.22905</td>\n",
       "    </tr>\n",
       "  </tbody>\n",
       "</table>\n",
       "</div>"
      ],
      "text/plain": [
       "   accuracy  precision  recall       f1\n",
       "0  0.729941   0.133117    0.82  0.22905"
      ]
     },
     "execution_count": 57,
     "metadata": {},
     "output_type": "execute_result"
    }
   ],
   "source": [
    "from sklearn.svm import SVC\n",
    "\n",
    "# Initialize model\n",
    "svm_model = SVC(kernel='linear', C=1.0, random_state=42, probability=True, class_weight='balanced')\n",
    "\n",
    "# Fit model to training set (without resampling)\n",
    "svm_model.fit(X_train_scaled, y_train)\n",
    "\n",
    "# Prediction on test set\n",
    "y_pred = svm_model.predict(X_test_scaled)\n",
    "\n",
    "# Evaluation on test set\n",
    "eval_model(y_pred, y_test)"
   ]
  },
  {
   "cell_type": "code",
   "execution_count": 58,
   "metadata": {},
   "outputs": [
    {
     "name": "stdout",
     "output_type": "stream",
     "text": [
      "Training_Set\n",
      "[[2796 1093]\n",
      " [  34  165]]\n"
     ]
    },
    {
     "data": {
      "text/html": [
       "<div>\n",
       "<style scoped>\n",
       "    .dataframe tbody tr th:only-of-type {\n",
       "        vertical-align: middle;\n",
       "    }\n",
       "\n",
       "    .dataframe tbody tr th {\n",
       "        vertical-align: top;\n",
       "    }\n",
       "\n",
       "    .dataframe thead th {\n",
       "        text-align: right;\n",
       "    }\n",
       "</style>\n",
       "<table border=\"1\" class=\"dataframe\">\n",
       "  <thead>\n",
       "    <tr style=\"text-align: right;\">\n",
       "      <th></th>\n",
       "      <th>accuracy</th>\n",
       "      <th>precision</th>\n",
       "      <th>recall</th>\n",
       "      <th>f1</th>\n",
       "    </tr>\n",
       "  </thead>\n",
       "  <tbody>\n",
       "    <tr>\n",
       "      <th>0</th>\n",
       "      <td>0.724315</td>\n",
       "      <td>0.131161</td>\n",
       "      <td>0.829146</td>\n",
       "      <td>0.226493</td>\n",
       "    </tr>\n",
       "  </tbody>\n",
       "</table>\n",
       "</div>"
      ],
      "text/plain": [
       "   accuracy  precision    recall        f1\n",
       "0  0.724315   0.131161  0.829146  0.226493"
      ]
     },
     "execution_count": 58,
     "metadata": {},
     "output_type": "execute_result"
    }
   ],
   "source": [
    "# Evaluation on training set\n",
    "eval_model_training_set(svm_model, X_train_scaled, y_train)"
   ]
  },
  {
   "cell_type": "markdown",
   "metadata": {},
   "source": [
    "The SVM model achieves a high recall score, indicating strong ability in identifying samples from the minority class. However, it struggles with precision when classifying the majority class, resulting in a lower precision score. Analyzing performance on the training set does not indicate overfitting suggesting that this issue is likely due to the dataset's class imbalance. This challenge may be mitigated through resampling techniques or parameter tuning to improve the model's balance between precision and recall."
   ]
  },
  {
   "cell_type": "markdown",
   "metadata": {
    "id": "euM9H7gn3MTb"
   },
   "source": [
    "### SVM (with SMOTE)"
   ]
  },
  {
   "cell_type": "code",
   "execution_count": 72,
   "metadata": {
    "colab": {
     "base_uri": "https://localhost:8080/"
    },
    "executionInfo": {
     "elapsed": 15055,
     "status": "ok",
     "timestamp": 1737288597332,
     "user": {
      "displayName": "giacomo lucato",
      "userId": "15571964377657343543"
     },
     "user_tz": -60
    },
    "id": "m12AReLk3Prr",
    "outputId": "66d9ebb1-a848-4063-bb30-4f7f5cdcc079"
   },
   "outputs": [
    {
     "name": "stdout",
     "output_type": "stream",
     "text": [
      "Test_Set\n",
      "[[705 267]\n",
      " [  9  41]]\n"
     ]
    },
    {
     "data": {
      "text/html": [
       "<div>\n",
       "<style scoped>\n",
       "    .dataframe tbody tr th:only-of-type {\n",
       "        vertical-align: middle;\n",
       "    }\n",
       "\n",
       "    .dataframe tbody tr th {\n",
       "        vertical-align: top;\n",
       "    }\n",
       "\n",
       "    .dataframe thead th {\n",
       "        text-align: right;\n",
       "    }\n",
       "</style>\n",
       "<table border=\"1\" class=\"dataframe\">\n",
       "  <thead>\n",
       "    <tr style=\"text-align: right;\">\n",
       "      <th></th>\n",
       "      <th>accuracy</th>\n",
       "      <th>precision</th>\n",
       "      <th>recall</th>\n",
       "      <th>f1</th>\n",
       "    </tr>\n",
       "  </thead>\n",
       "  <tbody>\n",
       "    <tr>\n",
       "      <th>0</th>\n",
       "      <td>0.729941</td>\n",
       "      <td>0.133117</td>\n",
       "      <td>0.82</td>\n",
       "      <td>0.22905</td>\n",
       "    </tr>\n",
       "  </tbody>\n",
       "</table>\n",
       "</div>"
      ],
      "text/plain": [
       "   accuracy  precision  recall       f1\n",
       "0  0.729941   0.133117    0.82  0.22905"
      ]
     },
     "execution_count": 72,
     "metadata": {},
     "output_type": "execute_result"
    }
   ],
   "source": [
    "# Initialize the model\n",
    "svm_model_smote = SVC(kernel='linear', C=1.0, random_state=42, probability=True, class_weight='balanced')\n",
    "\n",
    "# Train the model on resampled training set\n",
    "svm_model_smote.fit(X_train_smote, y_train_smote)\n",
    "\n",
    "# Prediction on test set\n",
    "y_pred = svm_model.predict(X_test_scaled)\n",
    "\n",
    "# Evaluation on test set\n",
    "eval_model(y_pred, y_test)"
   ]
  },
  {
   "cell_type": "code",
   "execution_count": 73,
   "metadata": {},
   "outputs": [
    {
     "name": "stdout",
     "output_type": "stream",
     "text": [
      "Training_Set\n",
      "[[2812 1077]\n",
      " [  35  164]]\n"
     ]
    },
    {
     "data": {
      "text/html": [
       "<div>\n",
       "<style scoped>\n",
       "    .dataframe tbody tr th:only-of-type {\n",
       "        vertical-align: middle;\n",
       "    }\n",
       "\n",
       "    .dataframe tbody tr th {\n",
       "        vertical-align: top;\n",
       "    }\n",
       "\n",
       "    .dataframe thead th {\n",
       "        text-align: right;\n",
       "    }\n",
       "</style>\n",
       "<table border=\"1\" class=\"dataframe\">\n",
       "  <thead>\n",
       "    <tr style=\"text-align: right;\">\n",
       "      <th></th>\n",
       "      <th>accuracy</th>\n",
       "      <th>precision</th>\n",
       "      <th>recall</th>\n",
       "      <th>f1</th>\n",
       "    </tr>\n",
       "  </thead>\n",
       "  <tbody>\n",
       "    <tr>\n",
       "      <th>0</th>\n",
       "      <td>0.727984</td>\n",
       "      <td>0.132151</td>\n",
       "      <td>0.824121</td>\n",
       "      <td>0.227778</td>\n",
       "    </tr>\n",
       "  </tbody>\n",
       "</table>\n",
       "</div>"
      ],
      "text/plain": [
       "   accuracy  precision    recall        f1\n",
       "0  0.727984   0.132151  0.824121  0.227778"
      ]
     },
     "execution_count": 73,
     "metadata": {},
     "output_type": "execute_result"
    }
   ],
   "source": [
    "# Evaluation on training set\n",
    "eval_model_training_set(svm_model_smote, X_train_scaled, y_train)"
   ]
  },
  {
   "cell_type": "markdown",
   "metadata": {
    "id": "VQeNRzqh3jcj"
   },
   "source": [
    "### SVM Tuning (without SMOTE)"
   ]
  },
  {
   "cell_type": "code",
   "execution_count": null,
   "metadata": {
    "colab": {
     "base_uri": "https://localhost:8080/"
    },
    "id": "BgRXW8R-3nMf",
    "outputId": "d27f69ab-1cd3-4474-c60b-2f0831f61945"
   },
   "outputs": [
    {
     "name": "stdout",
     "output_type": "stream",
     "text": [
      "Best Parameters: {'C': 1, 'kernel': 'linear'}\n",
      "Test_Set\n",
      "[[705 267]\n",
      " [  9  41]]\n"
     ]
    },
    {
     "data": {
      "text/html": [
       "<div>\n",
       "<style scoped>\n",
       "    .dataframe tbody tr th:only-of-type {\n",
       "        vertical-align: middle;\n",
       "    }\n",
       "\n",
       "    .dataframe tbody tr th {\n",
       "        vertical-align: top;\n",
       "    }\n",
       "\n",
       "    .dataframe thead th {\n",
       "        text-align: right;\n",
       "    }\n",
       "</style>\n",
       "<table border=\"1\" class=\"dataframe\">\n",
       "  <thead>\n",
       "    <tr style=\"text-align: right;\">\n",
       "      <th></th>\n",
       "      <th>accuracy</th>\n",
       "      <th>precision</th>\n",
       "      <th>recall</th>\n",
       "      <th>f1</th>\n",
       "    </tr>\n",
       "  </thead>\n",
       "  <tbody>\n",
       "    <tr>\n",
       "      <th>0</th>\n",
       "      <td>0.729941</td>\n",
       "      <td>0.133117</td>\n",
       "      <td>0.82</td>\n",
       "      <td>0.22905</td>\n",
       "    </tr>\n",
       "  </tbody>\n",
       "</table>\n",
       "</div>"
      ],
      "text/plain": [
       "   accuracy  precision  recall       f1\n",
       "0  0.729941   0.133117    0.82  0.22905"
      ]
     },
     "execution_count": 74,
     "metadata": {},
     "output_type": "execute_result"
    }
   ],
   "source": [
    "# Define the parameter grid\n",
    "param_grid = {\n",
    "    'C': [0.001, 0.1, 1, 10, 100],      # Regularization parameter\n",
    "    'kernel': ['linear'],  # Kernel types\n",
    "    # 'gamma': [1, 0.1, 0.01, 0.001]  # Kernel coefficient for 'rbf'\n",
    "}\n",
    "\n",
    "# Create an SVM classifier\n",
    "svc = SVC(class_weight='balanced', probability=True)\n",
    "\n",
    "# Set up GridSearchCV\n",
    "grid_search = GridSearchCV(estimator=svc, param_grid=param_grid, cv=5, scoring = 'f1', n_jobs=-1)\n",
    "\n",
    "# Fit the model\n",
    "grid_search.fit(X_train_scaled, y_train)\n",
    "\n",
    "# Print the best parameters\n",
    "print(\"Best Parameters:\", grid_search.best_params_)\n",
    "\n",
    "# Evaluate the model on the test set using the best parameters\n",
    "svc_best_model = grid_search.best_estimator_\n",
    "y_pred = svc_best_model.predict(X_test_scaled)\n",
    "\n",
    "# Evaluation on test set\n",
    "eval_model(y_pred, y_test)"
   ]
  },
  {
   "cell_type": "code",
   "execution_count": 75,
   "metadata": {},
   "outputs": [
    {
     "name": "stdout",
     "output_type": "stream",
     "text": [
      "Training_Set\n",
      "[[2796 1093]\n",
      " [  34  165]]\n"
     ]
    },
    {
     "data": {
      "text/html": [
       "<div>\n",
       "<style scoped>\n",
       "    .dataframe tbody tr th:only-of-type {\n",
       "        vertical-align: middle;\n",
       "    }\n",
       "\n",
       "    .dataframe tbody tr th {\n",
       "        vertical-align: top;\n",
       "    }\n",
       "\n",
       "    .dataframe thead th {\n",
       "        text-align: right;\n",
       "    }\n",
       "</style>\n",
       "<table border=\"1\" class=\"dataframe\">\n",
       "  <thead>\n",
       "    <tr style=\"text-align: right;\">\n",
       "      <th></th>\n",
       "      <th>accuracy</th>\n",
       "      <th>precision</th>\n",
       "      <th>recall</th>\n",
       "      <th>f1</th>\n",
       "    </tr>\n",
       "  </thead>\n",
       "  <tbody>\n",
       "    <tr>\n",
       "      <th>0</th>\n",
       "      <td>0.724315</td>\n",
       "      <td>0.131161</td>\n",
       "      <td>0.829146</td>\n",
       "      <td>0.226493</td>\n",
       "    </tr>\n",
       "  </tbody>\n",
       "</table>\n",
       "</div>"
      ],
      "text/plain": [
       "   accuracy  precision    recall        f1\n",
       "0  0.724315   0.131161  0.829146  0.226493"
      ]
     },
     "execution_count": 75,
     "metadata": {},
     "output_type": "execute_result"
    }
   ],
   "source": [
    "# Evaluation on training set\n",
    "eval_model_training_set(svc_best_model, X_train_scaled, y_train)"
   ]
  },
  {
   "cell_type": "markdown",
   "metadata": {},
   "source": [
    "### SVM Tuning (with SMOTE)"
   ]
  },
  {
   "cell_type": "code",
   "execution_count": 76,
   "metadata": {},
   "outputs": [
    {
     "name": "stdout",
     "output_type": "stream",
     "text": [
      "Best Parameters: {'C': 0.001, 'kernel': 'linear'}\n",
      "Test_Set\n",
      "[[663 309]\n",
      " [ 10  40]]\n"
     ]
    },
    {
     "data": {
      "text/html": [
       "<div>\n",
       "<style scoped>\n",
       "    .dataframe tbody tr th:only-of-type {\n",
       "        vertical-align: middle;\n",
       "    }\n",
       "\n",
       "    .dataframe tbody tr th {\n",
       "        vertical-align: top;\n",
       "    }\n",
       "\n",
       "    .dataframe thead th {\n",
       "        text-align: right;\n",
       "    }\n",
       "</style>\n",
       "<table border=\"1\" class=\"dataframe\">\n",
       "  <thead>\n",
       "    <tr style=\"text-align: right;\">\n",
       "      <th></th>\n",
       "      <th>accuracy</th>\n",
       "      <th>precision</th>\n",
       "      <th>recall</th>\n",
       "      <th>f1</th>\n",
       "    </tr>\n",
       "  </thead>\n",
       "  <tbody>\n",
       "    <tr>\n",
       "      <th>0</th>\n",
       "      <td>0.687867</td>\n",
       "      <td>0.114613</td>\n",
       "      <td>0.8</td>\n",
       "      <td>0.200501</td>\n",
       "    </tr>\n",
       "  </tbody>\n",
       "</table>\n",
       "</div>"
      ],
      "text/plain": [
       "   accuracy  precision  recall        f1\n",
       "0  0.687867   0.114613     0.8  0.200501"
      ]
     },
     "execution_count": 76,
     "metadata": {},
     "output_type": "execute_result"
    }
   ],
   "source": [
    "# Define the parameter grid\n",
    "param_grid = {\n",
    "    'C': [0.001, 0.1, 1, 10, 100],      # Regularization parameter\n",
    "    'kernel': ['linear', 'rbf'],  # Kernel types\n",
    "    'gamma': [1, 0.1, 0.01, 0.001]  # Kernel coefficient for 'rbf'\n",
    "}\n",
    "\n",
    "# Create an SVM classifier\n",
    "svc = SVC(class_weight='balanced', probability=True)\n",
    "\n",
    "# Set up GridSearchCV\n",
    "grid_search = GridSearchCV(estimator=svc, param_grid=param_grid, cv=5, scoring = 'f1', n_jobs=-1)\n",
    "\n",
    "# Fit the model\n",
    "grid_search.fit(X_train_smote, y_train_smote)\n",
    "\n",
    "# Print the best parameters\n",
    "print(\"Best Parameters:\", grid_search.best_params_)\n",
    "\n",
    "# Evaluate the model on the test set using the best parameters\n",
    "svc_best_model = grid_search.best_estimator_\n",
    "y_pred = svc_best_model.predict(X_test_scaled)\n",
    "\n",
    "# Evaluation on test set\n",
    "eval_model(y_pred, y_test)"
   ]
  },
  {
   "cell_type": "code",
   "execution_count": 77,
   "metadata": {},
   "outputs": [
    {
     "name": "stdout",
     "output_type": "stream",
     "text": [
      "Training_Set\n",
      "[[2633 1256]\n",
      " [  24  175]]\n"
     ]
    },
    {
     "data": {
      "text/html": [
       "<div>\n",
       "<style scoped>\n",
       "    .dataframe tbody tr th:only-of-type {\n",
       "        vertical-align: middle;\n",
       "    }\n",
       "\n",
       "    .dataframe tbody tr th {\n",
       "        vertical-align: top;\n",
       "    }\n",
       "\n",
       "    .dataframe thead th {\n",
       "        text-align: right;\n",
       "    }\n",
       "</style>\n",
       "<table border=\"1\" class=\"dataframe\">\n",
       "  <thead>\n",
       "    <tr style=\"text-align: right;\">\n",
       "      <th></th>\n",
       "      <th>accuracy</th>\n",
       "      <th>precision</th>\n",
       "      <th>recall</th>\n",
       "      <th>f1</th>\n",
       "    </tr>\n",
       "  </thead>\n",
       "  <tbody>\n",
       "    <tr>\n",
       "      <th>0</th>\n",
       "      <td>0.686888</td>\n",
       "      <td>0.122292</td>\n",
       "      <td>0.879397</td>\n",
       "      <td>0.214724</td>\n",
       "    </tr>\n",
       "  </tbody>\n",
       "</table>\n",
       "</div>"
      ],
      "text/plain": [
       "   accuracy  precision    recall        f1\n",
       "0  0.686888   0.122292  0.879397  0.214724"
      ]
     },
     "execution_count": 77,
     "metadata": {},
     "output_type": "execute_result"
    }
   ],
   "source": [
    "# Evaluation on training set\n",
    "eval_model_training_set(svc_best_model, X_train_scaled, y_train)"
   ]
  },
  {
   "cell_type": "markdown",
   "metadata": {},
   "source": [
    "Despite resampling the training set and tuning hyperparameters, the SVM model still struggles to correctly classify samples from the majority class. This suggests that the underlying class imbalance remains a challenge, and resampling alone may not be sufficient to improve performance. The issue could stem from overlapping feature distributions between classes, limitation of the current feature set, or the inherent characteristics of SVM in handling imbalanced data."
   ]
  },
  {
   "cell_type": "markdown",
   "metadata": {},
   "source": [
    "## Naive Bayes"
   ]
  },
  {
   "cell_type": "markdown",
   "metadata": {},
   "source": [
    "### Naive Bayes (without SMOTE)"
   ]
  },
  {
   "cell_type": "code",
   "execution_count": 64,
   "metadata": {},
   "outputs": [
    {
     "name": "stdout",
     "output_type": "stream",
     "text": [
      "Test_Set\n",
      "[[275 697]\n",
      " [  1  49]]\n"
     ]
    },
    {
     "data": {
      "text/html": [
       "<div>\n",
       "<style scoped>\n",
       "    .dataframe tbody tr th:only-of-type {\n",
       "        vertical-align: middle;\n",
       "    }\n",
       "\n",
       "    .dataframe tbody tr th {\n",
       "        vertical-align: top;\n",
       "    }\n",
       "\n",
       "    .dataframe thead th {\n",
       "        text-align: right;\n",
       "    }\n",
       "</style>\n",
       "<table border=\"1\" class=\"dataframe\">\n",
       "  <thead>\n",
       "    <tr style=\"text-align: right;\">\n",
       "      <th></th>\n",
       "      <th>accuracy</th>\n",
       "      <th>precision</th>\n",
       "      <th>recall</th>\n",
       "      <th>f1</th>\n",
       "    </tr>\n",
       "  </thead>\n",
       "  <tbody>\n",
       "    <tr>\n",
       "      <th>0</th>\n",
       "      <td>0.317025</td>\n",
       "      <td>0.065684</td>\n",
       "      <td>0.98</td>\n",
       "      <td>0.123116</td>\n",
       "    </tr>\n",
       "  </tbody>\n",
       "</table>\n",
       "</div>"
      ],
      "text/plain": [
       "   accuracy  precision  recall        f1\n",
       "0  0.317025   0.065684    0.98  0.123116"
      ]
     },
     "execution_count": 64,
     "metadata": {},
     "output_type": "execute_result"
    }
   ],
   "source": [
    "# Initialize the Gaussian Naive Bayes model\n",
    "nb_model = GaussianNB()\n",
    "\n",
    "# Train the model\n",
    "nb_model.fit(X_train_scaled, y_train)\n",
    "\n",
    "# Predict on the test set\n",
    "y_pred = nb_model.predict(X_test_scaled)\n",
    "\n",
    "# Evaluation on test set\n",
    "eval_model(y_pred, y_test)"
   ]
  },
  {
   "cell_type": "code",
   "execution_count": 66,
   "metadata": {},
   "outputs": [
    {
     "name": "stdout",
     "output_type": "stream",
     "text": [
      "Training_Set\n",
      "[[1042 2847]\n",
      " [   1  198]]\n"
     ]
    },
    {
     "data": {
      "text/html": [
       "<div>\n",
       "<style scoped>\n",
       "    .dataframe tbody tr th:only-of-type {\n",
       "        vertical-align: middle;\n",
       "    }\n",
       "\n",
       "    .dataframe tbody tr th {\n",
       "        vertical-align: top;\n",
       "    }\n",
       "\n",
       "    .dataframe thead th {\n",
       "        text-align: right;\n",
       "    }\n",
       "</style>\n",
       "<table border=\"1\" class=\"dataframe\">\n",
       "  <thead>\n",
       "    <tr style=\"text-align: right;\">\n",
       "      <th></th>\n",
       "      <th>accuracy</th>\n",
       "      <th>precision</th>\n",
       "      <th>recall</th>\n",
       "      <th>f1</th>\n",
       "    </tr>\n",
       "  </thead>\n",
       "  <tbody>\n",
       "    <tr>\n",
       "      <th>0</th>\n",
       "      <td>0.303327</td>\n",
       "      <td>0.065025</td>\n",
       "      <td>0.994975</td>\n",
       "      <td>0.122072</td>\n",
       "    </tr>\n",
       "  </tbody>\n",
       "</table>\n",
       "</div>"
      ],
      "text/plain": [
       "   accuracy  precision    recall        f1\n",
       "0  0.303327   0.065025  0.994975  0.122072"
      ]
     },
     "execution_count": 66,
     "metadata": {},
     "output_type": "execute_result"
    }
   ],
   "source": [
    "# Evaluation on training set\n",
    "eval_model_training_set(nb_model, X_train_scaled, y_train)"
   ]
  },
  {
   "cell_type": "markdown",
   "metadata": {},
   "source": [
    "The Naive Bayes classifier achieves an excellent recall score, successfully identifying all samples from the minority class. However, similar to SVM models, it struggles to correctly classify samples from the majority class, leading to an imbalance in precision"
   ]
  },
  {
   "cell_type": "markdown",
   "metadata": {},
   "source": [
    "### Naive Bayes Tuning (with SMOTE)"
   ]
  },
  {
   "cell_type": "code",
   "execution_count": 78,
   "metadata": {},
   "outputs": [
    {
     "name": "stdout",
     "output_type": "stream",
     "text": [
      "Test_Set\n",
      "[[430 542]\n",
      " [  2  48]]\n"
     ]
    },
    {
     "data": {
      "text/html": [
       "<div>\n",
       "<style scoped>\n",
       "    .dataframe tbody tr th:only-of-type {\n",
       "        vertical-align: middle;\n",
       "    }\n",
       "\n",
       "    .dataframe tbody tr th {\n",
       "        vertical-align: top;\n",
       "    }\n",
       "\n",
       "    .dataframe thead th {\n",
       "        text-align: right;\n",
       "    }\n",
       "</style>\n",
       "<table border=\"1\" class=\"dataframe\">\n",
       "  <thead>\n",
       "    <tr style=\"text-align: right;\">\n",
       "      <th></th>\n",
       "      <th>accuracy</th>\n",
       "      <th>precision</th>\n",
       "      <th>recall</th>\n",
       "      <th>f1</th>\n",
       "    </tr>\n",
       "  </thead>\n",
       "  <tbody>\n",
       "    <tr>\n",
       "      <th>0</th>\n",
       "      <td>0.46771</td>\n",
       "      <td>0.081356</td>\n",
       "      <td>0.96</td>\n",
       "      <td>0.15</td>\n",
       "    </tr>\n",
       "  </tbody>\n",
       "</table>\n",
       "</div>"
      ],
      "text/plain": [
       "   accuracy  precision  recall    f1\n",
       "0   0.46771   0.081356    0.96  0.15"
      ]
     },
     "execution_count": 78,
     "metadata": {},
     "output_type": "execute_result"
    }
   ],
   "source": [
    "from sklearn.naive_bayes import GaussianNB\n",
    "\n",
    "# Initialize the Gaussian Naive Bayes model\n",
    "nb_model_smote = GaussianNB()\n",
    "\n",
    "# Train the model\n",
    "nb_model_smote.fit(X_train_smote, y_train_smote)\n",
    "\n",
    "# Predict on the test set\n",
    "y_pred = nb_model_smote.predict(X_test_scaled)\n",
    "\n",
    "# Get predicted probabilities for all test samples\n",
    "probs = nb_model_smote.predict_proba(X_test_scaled)\n",
    "\n",
    "# Extract probabilities for the positive class (class 1)\n",
    "positive_class_probs = probs[:, 1]\n",
    "\n",
    "# Update y_pred: set to 1 only if probability >= 0.99, otherwise set to 0\n",
    "y_pred[positive_class_probs < 0.998] = 0\n",
    "\n",
    "# Evaluation on test set\n",
    "eval_model(y_pred, y_test)\n"
   ]
  },
  {
   "cell_type": "code",
   "execution_count": 79,
   "metadata": {},
   "outputs": [
    {
     "name": "stdout",
     "output_type": "stream",
     "text": [
      "Training_Set\n",
      "[[1122 2767]\n",
      " [   1  198]]\n"
     ]
    },
    {
     "data": {
      "text/html": [
       "<div>\n",
       "<style scoped>\n",
       "    .dataframe tbody tr th:only-of-type {\n",
       "        vertical-align: middle;\n",
       "    }\n",
       "\n",
       "    .dataframe tbody tr th {\n",
       "        vertical-align: top;\n",
       "    }\n",
       "\n",
       "    .dataframe thead th {\n",
       "        text-align: right;\n",
       "    }\n",
       "</style>\n",
       "<table border=\"1\" class=\"dataframe\">\n",
       "  <thead>\n",
       "    <tr style=\"text-align: right;\">\n",
       "      <th></th>\n",
       "      <th>accuracy</th>\n",
       "      <th>precision</th>\n",
       "      <th>recall</th>\n",
       "      <th>f1</th>\n",
       "    </tr>\n",
       "  </thead>\n",
       "  <tbody>\n",
       "    <tr>\n",
       "      <th>0</th>\n",
       "      <td>0.322896</td>\n",
       "      <td>0.066779</td>\n",
       "      <td>0.994975</td>\n",
       "      <td>0.125158</td>\n",
       "    </tr>\n",
       "  </tbody>\n",
       "</table>\n",
       "</div>"
      ],
      "text/plain": [
       "   accuracy  precision    recall        f1\n",
       "0  0.322896   0.066779  0.994975  0.125158"
      ]
     },
     "execution_count": 79,
     "metadata": {},
     "output_type": "execute_result"
    }
   ],
   "source": [
    "# Evaluation on training set\n",
    "eval_model_training_set(nb_model_smote, X_train_scaled, y_train)"
   ]
  },
  {
   "cell_type": "markdown",
   "metadata": {},
   "source": [
    "Despite resampling of the training set, Naive Bayes classifier still struggles to identify samples coming from the majority class"
   ]
  },
  {
   "cell_type": "markdown",
   "metadata": {},
   "source": [
    "## Model Comparison"
   ]
  },
  {
   "cell_type": "code",
   "execution_count": 81,
   "metadata": {},
   "outputs": [
    {
     "data": {
      "text/html": [
       "<div>\n",
       "<style scoped>\n",
       "    .dataframe tbody tr th:only-of-type {\n",
       "        vertical-align: middle;\n",
       "    }\n",
       "\n",
       "    .dataframe tbody tr th {\n",
       "        vertical-align: top;\n",
       "    }\n",
       "\n",
       "    .dataframe thead th {\n",
       "        text-align: right;\n",
       "    }\n",
       "</style>\n",
       "<table border=\"1\" class=\"dataframe\">\n",
       "  <thead>\n",
       "    <tr style=\"text-align: right;\">\n",
       "      <th></th>\n",
       "      <th>Model</th>\n",
       "      <th>Precision</th>\n",
       "      <th>Recall</th>\n",
       "      <th>F1-Score</th>\n",
       "    </tr>\n",
       "  </thead>\n",
       "  <tbody>\n",
       "    <tr>\n",
       "      <th>0</th>\n",
       "      <td>Random Forest</td>\n",
       "      <td>0.14</td>\n",
       "      <td>0.76</td>\n",
       "      <td>0.24</td>\n",
       "    </tr>\n",
       "    <tr>\n",
       "      <th>1</th>\n",
       "      <td>Random Forest (SMOTE)</td>\n",
       "      <td>0.11</td>\n",
       "      <td>0.44</td>\n",
       "      <td>0.18</td>\n",
       "    </tr>\n",
       "    <tr>\n",
       "      <th>2</th>\n",
       "      <td>KNN</td>\n",
       "      <td>0.21</td>\n",
       "      <td>0.08</td>\n",
       "      <td>0.11</td>\n",
       "    </tr>\n",
       "    <tr>\n",
       "      <th>3</th>\n",
       "      <td>KNN (SMOTE)</td>\n",
       "      <td>0.08</td>\n",
       "      <td>0.20</td>\n",
       "      <td>0.12</td>\n",
       "    </tr>\n",
       "    <tr>\n",
       "      <th>4</th>\n",
       "      <td>SVM</td>\n",
       "      <td>0.13</td>\n",
       "      <td>0.82</td>\n",
       "      <td>0.22</td>\n",
       "    </tr>\n",
       "    <tr>\n",
       "      <th>5</th>\n",
       "      <td>SVM (SMOTE)</td>\n",
       "      <td>0.11</td>\n",
       "      <td>0.80</td>\n",
       "      <td>0.20</td>\n",
       "    </tr>\n",
       "    <tr>\n",
       "      <th>6</th>\n",
       "      <td>Naive Bayes</td>\n",
       "      <td>0.08</td>\n",
       "      <td>0.98</td>\n",
       "      <td>0.12</td>\n",
       "    </tr>\n",
       "    <tr>\n",
       "      <th>7</th>\n",
       "      <td>Naive Bayes (SMOTE)</td>\n",
       "      <td>0.08</td>\n",
       "      <td>0.96</td>\n",
       "      <td>0.15</td>\n",
       "    </tr>\n",
       "  </tbody>\n",
       "</table>\n",
       "</div>"
      ],
      "text/plain": [
       "                   Model  Precision  Recall  F1-Score\n",
       "0          Random Forest       0.14    0.76      0.24\n",
       "1  Random Forest (SMOTE)       0.11    0.44      0.18\n",
       "2                    KNN       0.21    0.08      0.11\n",
       "3            KNN (SMOTE)       0.08    0.20      0.12\n",
       "4                    SVM       0.13    0.82      0.22\n",
       "5            SVM (SMOTE)       0.11    0.80      0.20\n",
       "6            Naive Bayes       0.08    0.98      0.12\n",
       "7    Naive Bayes (SMOTE)       0.08    0.96      0.15"
      ]
     },
     "execution_count": 81,
     "metadata": {},
     "output_type": "execute_result"
    }
   ],
   "source": [
    "data = [\n",
    "    ['Random Forest', 0.14, 0.76, 0.24],\n",
    "    ['Random Forest (SMOTE)', 0.11, 0.44, 0.18],\n",
    "    ['KNN', 0.21, 0.08, 0.11],\n",
    "    ['KNN (SMOTE)', 0.08, 0.2, 0.12],\n",
    "    ['SVM', 0.13, 0.82, 0.22],\n",
    "    ['SVM (SMOTE)', 0.11, 0.8, 0.2],\n",
    "    ['Naive Bayes', 0.08, 0.98, 0.12],\n",
    "    ['Naive Bayes (SMOTE)', 0.08, 0.96, 0.15]\n",
    "]\n",
    "\n",
    "# Define column names\n",
    "columns = ['Model', 'Precision', 'Recall', 'F1-Score']\n",
    "\n",
    "# Create DataFrame\n",
    "df = pd.DataFrame(data, columns=columns)\n",
    "\n",
    "# Display DataFrame\n",
    "df"
   ]
  },
  {
   "cell_type": "markdown",
   "metadata": {},
   "source": [
    "Model comparison reveals that none of the models perform exceptionally well on the test set in distinguishing between the two classes. \n",
    "Given that the primary objective of this project is to identify individuals at risk of stroke, models with a high recall score are preferred. These models exel at identifying those who are at risk, even if it means missclassifying some healthy indiviuals as 'at risk'.\n",
    "To address this challenge, ensembling techniques were exploited to determine if they could mitigate the imbalance in performance."
   ]
  },
  {
   "cell_type": "markdown",
   "metadata": {},
   "source": [
    "## Model Ensemble"
   ]
  },
  {
   "cell_type": "code",
   "execution_count": 89,
   "metadata": {},
   "outputs": [
    {
     "name": "stdout",
     "output_type": "stream",
     "text": [
      "Test_Set\n",
      "[[784 188]\n",
      " [ 14  36]]\n"
     ]
    },
    {
     "data": {
      "text/html": [
       "<div>\n",
       "<style scoped>\n",
       "    .dataframe tbody tr th:only-of-type {\n",
       "        vertical-align: middle;\n",
       "    }\n",
       "\n",
       "    .dataframe tbody tr th {\n",
       "        vertical-align: top;\n",
       "    }\n",
       "\n",
       "    .dataframe thead th {\n",
       "        text-align: right;\n",
       "    }\n",
       "</style>\n",
       "<table border=\"1\" class=\"dataframe\">\n",
       "  <thead>\n",
       "    <tr style=\"text-align: right;\">\n",
       "      <th></th>\n",
       "      <th>accuracy</th>\n",
       "      <th>precision</th>\n",
       "      <th>recall</th>\n",
       "      <th>f1</th>\n",
       "    </tr>\n",
       "  </thead>\n",
       "  <tbody>\n",
       "    <tr>\n",
       "      <th>0</th>\n",
       "      <td>0.802348</td>\n",
       "      <td>0.160714</td>\n",
       "      <td>0.72</td>\n",
       "      <td>0.262774</td>\n",
       "    </tr>\n",
       "  </tbody>\n",
       "</table>\n",
       "</div>"
      ],
      "text/plain": [
       "   accuracy  precision  recall        f1\n",
       "0  0.802348   0.160714    0.72  0.262774"
      ]
     },
     "execution_count": 89,
     "metadata": {},
     "output_type": "execute_result"
    }
   ],
   "source": [
    "from sklearn.utils import resample\n",
    "\n",
    "def bagging_ensemble(X_train_scaled, y_train, X_test_scaled, models, n_estimators=3):\n",
    "\n",
    "    n_models = len(models)\n",
    "    all_predictions = np.zeros((n_estimators, len(X_test_scaled), n_models))\n",
    "\n",
    "    for i in range(n_estimators):\n",
    "        X_bootstrap, y_bootstrap = resample(X_train_scaled, y_train, n_samples=len(X_train_scaled), random_state=i)\n",
    "\n",
    "        for j, model in enumerate(models):\n",
    "            # Retrain the model on the bootstrap sample\n",
    "            model_clone = type(model)().set_params(**model.get_params()) # Create a clone to avoid modifying original\n",
    "            model_clone.fit(X_bootstrap, y_bootstrap)\n",
    "            all_predictions[i, :, j] = model_clone.predict(X_test_scaled) # Predict on the test set\n",
    "\n",
    "    # Majority voting (or averaging for regression)\n",
    "    final_predictions = np.mean(all_predictions, axis=(0,2)) > 0.5  # For binary classification\n",
    "\n",
    "    return final_predictions\n",
    "\n",
    "\n",
    "\n",
    "\n",
    "# List of trained models\n",
    "models = [nb_model, grid_rf_smote.best_estimator_, svc_best_model]\n",
    "\n",
    "# Perform bagging ensemble\n",
    "ensemble_predictions = bagging_ensemble(X_train_scaled, y_train, X_test_scaled, models, n_estimators=3)\n",
    "\n",
    "# Evaluate the ensemble model\n",
    "eval_model(ensemble_predictions, y_test)"
   ]
  },
  {
   "cell_type": "code",
   "execution_count": 159,
   "metadata": {},
   "outputs": [
    {
     "name": "stdout",
     "output_type": "stream",
     "text": [
      "Test_Set\n",
      "[[845 127]\n",
      " [ 13  37]]\n"
     ]
    },
    {
     "data": {
      "text/html": [
       "<div>\n",
       "<style scoped>\n",
       "    .dataframe tbody tr th:only-of-type {\n",
       "        vertical-align: middle;\n",
       "    }\n",
       "\n",
       "    .dataframe tbody tr th {\n",
       "        vertical-align: top;\n",
       "    }\n",
       "\n",
       "    .dataframe thead th {\n",
       "        text-align: right;\n",
       "    }\n",
       "</style>\n",
       "<table border=\"1\" class=\"dataframe\">\n",
       "  <thead>\n",
       "    <tr style=\"text-align: right;\">\n",
       "      <th></th>\n",
       "      <th>accuracy</th>\n",
       "      <th>precision</th>\n",
       "      <th>recall</th>\n",
       "      <th>f1</th>\n",
       "    </tr>\n",
       "  </thead>\n",
       "  <tbody>\n",
       "    <tr>\n",
       "      <th>0</th>\n",
       "      <td>0.863014</td>\n",
       "      <td>0.22561</td>\n",
       "      <td>0.74</td>\n",
       "      <td>0.345794</td>\n",
       "    </tr>\n",
       "  </tbody>\n",
       "</table>\n",
       "</div>"
      ],
      "text/plain": [
       "   accuracy  precision  recall        f1\n",
       "0  0.863014    0.22561    0.74  0.345794"
      ]
     },
     "execution_count": 159,
     "metadata": {},
     "output_type": "execute_result"
    }
   ],
   "source": [
    "# Import necessary libraries\n",
    "from sklearn.ensemble import StackingClassifier\n",
    "\n",
    "# Create the base models\n",
    "base_model_3 = svc_best_model\n",
    "base_model_2 = grid_rf_smote.best_estimator_\n",
    "base_model_1 = nb_model_smote\n",
    "\n",
    "# Create the meta-model\n",
    "meta_model = nb_model_smote\n",
    "\n",
    "# Create the stacking classifier\n",
    "stacking_model = StackingClassifier(\n",
    "    estimators=[('nb', base_model_1), ('rf', base_model_2), ('svm', base_model_3)],  \n",
    "    final_estimator=meta_model,  \n",
    "    cv=5 \n",
    ")\n",
    "\n",
    "# Train the stacking model\n",
    "stacking_model.fit(X_train_scaled, y_train)\n",
    "\n",
    "# Predict on the test set\n",
    "y_pred = stacking_model.predict(X_test_scaled)\n",
    "\n",
    "# Evaluate the model\n",
    "eval_model(y_pred, y_test)"
   ]
  },
  {
   "cell_type": "markdown",
   "metadata": {},
   "source": [
    "## Conclusion"
   ]
  },
  {
   "cell_type": "markdown",
   "metadata": {},
   "source": []
  }
 ],
 "metadata": {
  "accelerator": "GPU",
  "colab": {
   "authorship_tag": "ABX9TyNdNdHo6YwI05fJWaYbg3m9",
   "gpuType": "T4",
   "provenance": [
    {
     "file_id": "1m1MOr1I4S4D4GyH0ObtsPJrMDjMarhr9",
     "timestamp": 1737297541327
    }
   ]
  },
  "kernelspec": {
   "display_name": "machine_learning",
   "language": "python",
   "name": "python3"
  },
  "language_info": {
   "codemirror_mode": {
    "name": "ipython",
    "version": 3
   },
   "file_extension": ".py",
   "mimetype": "text/x-python",
   "name": "python",
   "nbconvert_exporter": "python",
   "pygments_lexer": "ipython3",
   "version": "3.12.3"
  }
 },
 "nbformat": 4,
 "nbformat_minor": 0
}
